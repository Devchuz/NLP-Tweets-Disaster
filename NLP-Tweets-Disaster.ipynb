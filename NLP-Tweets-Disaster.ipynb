{
 "cells": [
  {
   "cell_type": "markdown",
   "id": "8b6581b9",
   "metadata": {},
   "source": [
    "## Descripcion de ploblemas\n",
    "\n",
    "Descripción del Proyecto:\n",
    "En la era actual, Twitter ha emergido como un canal vital de comunicación, especialmente durante situaciones de crisis y emergencia. La proliferación de dispositivos móviles ha habilitado a las personas para reportar eventos en tiempo real, lo que ha llevado a un aumento en la atención por parte de agencias de ayuda en desastres y medios de comunicación.\n",
    "\n",
    "Sin embargo, discernir si un tweet realmente describe una emergencia no siempre es sencillo. Tomemos este ejemplo:\n"
   ]
  },
  {
   "cell_type": "markdown",
   "id": "0b4ecb26",
   "metadata": {},
   "source": [
    "<img src=\"tweet_screenshot.png\" alt=\"Texto alternativo\" width=\"300\"/>\n"
   ]
  },
  {
   "cell_type": "markdown",
   "id": "1065086c",
   "metadata": {},
   "source": [
    "\"La situación está ABLAZE con emociones.\"\n",
    "\n",
    "Aunque el término \"ABLAZE\" se utiliza, su sentido es metafórico y no indica un desastre real. Esto es fácilmente comprendido por seres humanos, especialmente con el contexto visual. Sin embargo, para una máquina, esta distinción puede resultar más compleja.\n",
    "\n",
    "En este desafío, te invitamos a construir un modelo de aprendizaje automático capaz de predecir cuáles tweets hacen referencia a situaciones de emergencia y cuáles no. Tendrás acceso a un conjunto de datos con 10,000 tweets que han sido clasificados manualmente. Si eres nuevo en el campo del Procesamiento del Lenguaje Natural (PLN), hemos creado un tutorial rápido para facilitar tu inicio.\n",
    "\n",
    "Ten en cuenta que el conjunto de datos utilizado en este concurso contiene texto que podría ser considerado como lenguaje profano, vulgar u ofensivo."
   ]
  },
  {
   "cell_type": "markdown",
   "id": "9de31004",
   "metadata": {},
   "source": [
    "## Importacion de librerias"
   ]
  },
  {
   "cell_type": "code",
   "execution_count": 1,
   "id": "333f583a",
   "metadata": {},
   "outputs": [],
   "source": [
    "import matplotlib.pyplot as plt\n",
    "import numpy as np\n",
    "import pandas as pd\n",
    "import zipfile\n",
    "import os\n",
    "import datetime\n",
    "import missingno as msno\n",
    "import seaborn as sns\n",
    "from PIL import Image\n",
    "from wordcloud import WordCloud, STOPWORDS, ImageColorGenerator"
   ]
  },
  {
   "cell_type": "markdown",
   "id": "41cfb82c",
   "metadata": {},
   "source": [
    "## Funciones"
   ]
  },
  {
   "cell_type": "code",
   "execution_count": 2,
   "id": "b61682a2",
   "metadata": {},
   "outputs": [],
   "source": [
    "#Descomprimir archivo descargado\n",
    "\n",
    "def unzip_data(filename):\n",
    "    zip_ref = zipfile.ZipFile(filename, \"r\")\n",
    "    zip_ref.extractall()\n",
    "    zip_ref.close()\n",
    "\n",
    "#Habilitar tensorboard\n",
    "def create_tensorboard_callback(dir_name, experiment_name):\n",
    "    log_dir = dir_name + \"/\" + experiment_name + \"/\" + datetime.datetime.now().strftime(\"%Y%m%d-%H%M%S\")\n",
    "    tensorboard_callback = tf.keras.callbacks.TensorBoard(log_dir=log_dir)\n",
    "    print(f\"Saving TensorBoard log files to: {log_dir}\")\n",
    "    return tensorboard_callback\n",
    "\n",
    "\n",
    "def plot_loss_curves(history):\n",
    "    loss = history.history['loss']\n",
    "    val_loss = history.history['val_loss']\n",
    "\n",
    "    accuracy = history.history['accuracy']\n",
    "    val_accuracy = history.history['val_accuracy']\n",
    "\n",
    "    epochs = range(len(history.history['loss']))\n",
    "\n",
    "    # Plot loss\n",
    "    plt.plot(epochs, loss, label='training_loss')\n",
    "    plt.plot(epochs, val_loss, label='val_loss')\n",
    "    plt.title('Loss')\n",
    "    plt.xlabel('Epochs')\n",
    "    plt.legend()\n",
    "\n",
    "    # Plot accuracy\n",
    "    plt.figure()\n",
    "    plt.plot(epochs, accuracy, label='training_accuracy')\n",
    "    plt.plot(epochs, val_accuracy, label='val_accuracy')\n",
    "    plt.title('Accuracy')\n",
    "    plt.xlabel('Epochs')\n",
    "    plt.legend();\n",
    "\n",
    "def compare_historys(original_history, new_history, initial_epochs=5):\n",
    "    \n",
    "    # Get original history measurements\n",
    "    acc = original_history.history[\"accuracy\"]\n",
    "    loss = original_history.history[\"loss\"]\n",
    "\n",
    "    val_acc = original_history.history[\"val_accuracy\"]\n",
    "    val_loss = original_history.history[\"val_loss\"]\n",
    "\n",
    "    # Combine original history with new history\n",
    "    total_acc = acc + new_history.history[\"accuracy\"]\n",
    "    total_loss = loss + new_history.history[\"loss\"]\n",
    "\n",
    "    total_val_acc = val_acc + new_history.history[\"val_accuracy\"]\n",
    "    total_val_loss = val_loss + new_history.history[\"val_loss\"]\n",
    "\n",
    "    # Make plots\n",
    "    plt.figure(figsize=(8, 8))\n",
    "    plt.subplot(2, 1, 1)\n",
    "    plt.plot(total_acc, label='Training Accuracy')\n",
    "    plt.plot(total_val_acc, label='Validation Accuracy')\n",
    "    plt.plot([initial_epochs-1, initial_epochs-1],\n",
    "              plt.ylim(), label='Start Fine Tuning') # reshift plot around epochs\n",
    "    plt.legend(loc='lower right')\n",
    "    plt.title('Training and Validation Accuracy')\n",
    "\n",
    "    plt.subplot(2, 1, 2)\n",
    "    plt.plot(total_loss, label='Training Loss')\n",
    "    plt.plot(total_val_loss, label='Validation Loss')\n",
    "    plt.plot([initial_epochs-1, initial_epochs-1],\n",
    "              plt.ylim(), label='Start Fine Tuning') # reshift plot around epochs\n",
    "    plt.legend(loc='upper right')\n",
    "    plt.title('Training and Validation Loss')\n",
    "    plt.xlabel('epoch')\n",
    "    plt.show()"
   ]
  },
  {
   "cell_type": "markdown",
   "id": "be9d3ce3",
   "metadata": {},
   "source": [
    "## Get dataset\n",
    "\n",
    "\n",
    "El data set original se encuentra en el siguiente link https://www.kaggle.com/competitions/nlp-getting-started/data\n"
   ]
  },
  {
   "cell_type": "code",
   "execution_count": 3,
   "id": "35eb0d78",
   "metadata": {},
   "outputs": [
    {
     "name": "stdout",
     "output_type": "stream",
     "text": [
      "Ruta actual: C:\\Users\\garfi\\Desktop\\Proyectos\\NLP\n"
     ]
    }
   ],
   "source": [
    "# Obtencion de ruta de archivos\n",
    "\n",
    "from pathlib import Path\n",
    "rt = Path.cwd()\n",
    "rt_base = rt.joinpath(\"nlp-getting-started.zip\")\n",
    "print(\"Ruta actual:\", rt)\n",
    "\n",
    "rt_train = rt.joinpath(\"train.csv\")\n",
    "rt_test = rt.joinpath(\"test.csv\")"
   ]
  },
  {
   "cell_type": "code",
   "execution_count": 4,
   "id": "bf9009b0",
   "metadata": {},
   "outputs": [],
   "source": [
    "#Unzip data\n",
    "unzip_data(rt_base)"
   ]
  },
  {
   "cell_type": "markdown",
   "id": "6caaafdb",
   "metadata": {},
   "source": [
    "## Visuazlizacion del texto del dataset"
   ]
  },
  {
   "cell_type": "code",
   "execution_count": 5,
   "id": "e710b623",
   "metadata": {},
   "outputs": [],
   "source": [
    "# Cragamos la data\n",
    "import pandas as pd\n",
    "df_train = pd.read_csv(rt_train)\n",
    "df_test = pd.read_csv(rt_test)"
   ]
  },
  {
   "cell_type": "code",
   "execution_count": 6,
   "id": "ccc348e8",
   "metadata": {
    "scrolled": true
   },
   "outputs": [
    {
     "data": {
      "text/html": [
       "<div>\n",
       "<style scoped>\n",
       "    .dataframe tbody tr th:only-of-type {\n",
       "        vertical-align: middle;\n",
       "    }\n",
       "\n",
       "    .dataframe tbody tr th {\n",
       "        vertical-align: top;\n",
       "    }\n",
       "\n",
       "    .dataframe thead th {\n",
       "        text-align: right;\n",
       "    }\n",
       "</style>\n",
       "<table border=\"1\" class=\"dataframe\">\n",
       "  <thead>\n",
       "    <tr style=\"text-align: right;\">\n",
       "      <th></th>\n",
       "      <th>id</th>\n",
       "      <th>keyword</th>\n",
       "      <th>location</th>\n",
       "      <th>text</th>\n",
       "      <th>target</th>\n",
       "    </tr>\n",
       "  </thead>\n",
       "  <tbody>\n",
       "    <tr>\n",
       "      <th>0</th>\n",
       "      <td>1</td>\n",
       "      <td>NaN</td>\n",
       "      <td>NaN</td>\n",
       "      <td>Our Deeds are the Reason of this #earthquake M...</td>\n",
       "      <td>1</td>\n",
       "    </tr>\n",
       "    <tr>\n",
       "      <th>1</th>\n",
       "      <td>4</td>\n",
       "      <td>NaN</td>\n",
       "      <td>NaN</td>\n",
       "      <td>Forest fire near La Ronge Sask. Canada</td>\n",
       "      <td>1</td>\n",
       "    </tr>\n",
       "    <tr>\n",
       "      <th>2</th>\n",
       "      <td>5</td>\n",
       "      <td>NaN</td>\n",
       "      <td>NaN</td>\n",
       "      <td>All residents asked to 'shelter in place' are ...</td>\n",
       "      <td>1</td>\n",
       "    </tr>\n",
       "    <tr>\n",
       "      <th>3</th>\n",
       "      <td>6</td>\n",
       "      <td>NaN</td>\n",
       "      <td>NaN</td>\n",
       "      <td>13,000 people receive #wildfires evacuation or...</td>\n",
       "      <td>1</td>\n",
       "    </tr>\n",
       "    <tr>\n",
       "      <th>4</th>\n",
       "      <td>7</td>\n",
       "      <td>NaN</td>\n",
       "      <td>NaN</td>\n",
       "      <td>Just got sent this photo from Ruby #Alaska as ...</td>\n",
       "      <td>1</td>\n",
       "    </tr>\n",
       "    <tr>\n",
       "      <th>5</th>\n",
       "      <td>8</td>\n",
       "      <td>NaN</td>\n",
       "      <td>NaN</td>\n",
       "      <td>#RockyFire Update =&gt; California Hwy. 20 closed...</td>\n",
       "      <td>1</td>\n",
       "    </tr>\n",
       "    <tr>\n",
       "      <th>6</th>\n",
       "      <td>10</td>\n",
       "      <td>NaN</td>\n",
       "      <td>NaN</td>\n",
       "      <td>#flood #disaster Heavy rain causes flash flood...</td>\n",
       "      <td>1</td>\n",
       "    </tr>\n",
       "    <tr>\n",
       "      <th>7</th>\n",
       "      <td>13</td>\n",
       "      <td>NaN</td>\n",
       "      <td>NaN</td>\n",
       "      <td>I'm on top of the hill and I can see a fire in...</td>\n",
       "      <td>1</td>\n",
       "    </tr>\n",
       "    <tr>\n",
       "      <th>8</th>\n",
       "      <td>14</td>\n",
       "      <td>NaN</td>\n",
       "      <td>NaN</td>\n",
       "      <td>There's an emergency evacuation happening now ...</td>\n",
       "      <td>1</td>\n",
       "    </tr>\n",
       "    <tr>\n",
       "      <th>9</th>\n",
       "      <td>15</td>\n",
       "      <td>NaN</td>\n",
       "      <td>NaN</td>\n",
       "      <td>I'm afraid that the tornado is coming to our a...</td>\n",
       "      <td>1</td>\n",
       "    </tr>\n",
       "    <tr>\n",
       "      <th>10</th>\n",
       "      <td>16</td>\n",
       "      <td>NaN</td>\n",
       "      <td>NaN</td>\n",
       "      <td>Three people died from the heat wave so far</td>\n",
       "      <td>1</td>\n",
       "    </tr>\n",
       "    <tr>\n",
       "      <th>11</th>\n",
       "      <td>17</td>\n",
       "      <td>NaN</td>\n",
       "      <td>NaN</td>\n",
       "      <td>Haha South Tampa is getting flooded hah- WAIT ...</td>\n",
       "      <td>1</td>\n",
       "    </tr>\n",
       "    <tr>\n",
       "      <th>12</th>\n",
       "      <td>18</td>\n",
       "      <td>NaN</td>\n",
       "      <td>NaN</td>\n",
       "      <td>#raining #flooding #Florida #TampaBay #Tampa 1...</td>\n",
       "      <td>1</td>\n",
       "    </tr>\n",
       "    <tr>\n",
       "      <th>13</th>\n",
       "      <td>19</td>\n",
       "      <td>NaN</td>\n",
       "      <td>NaN</td>\n",
       "      <td>#Flood in Bago Myanmar #We arrived Bago</td>\n",
       "      <td>1</td>\n",
       "    </tr>\n",
       "    <tr>\n",
       "      <th>14</th>\n",
       "      <td>20</td>\n",
       "      <td>NaN</td>\n",
       "      <td>NaN</td>\n",
       "      <td>Damage to school bus on 80 in multi car crash ...</td>\n",
       "      <td>1</td>\n",
       "    </tr>\n",
       "    <tr>\n",
       "      <th>15</th>\n",
       "      <td>23</td>\n",
       "      <td>NaN</td>\n",
       "      <td>NaN</td>\n",
       "      <td>What's up man?</td>\n",
       "      <td>0</td>\n",
       "    </tr>\n",
       "    <tr>\n",
       "      <th>16</th>\n",
       "      <td>24</td>\n",
       "      <td>NaN</td>\n",
       "      <td>NaN</td>\n",
       "      <td>I love fruits</td>\n",
       "      <td>0</td>\n",
       "    </tr>\n",
       "    <tr>\n",
       "      <th>17</th>\n",
       "      <td>25</td>\n",
       "      <td>NaN</td>\n",
       "      <td>NaN</td>\n",
       "      <td>Summer is lovely</td>\n",
       "      <td>0</td>\n",
       "    </tr>\n",
       "    <tr>\n",
       "      <th>18</th>\n",
       "      <td>26</td>\n",
       "      <td>NaN</td>\n",
       "      <td>NaN</td>\n",
       "      <td>My car is so fast</td>\n",
       "      <td>0</td>\n",
       "    </tr>\n",
       "    <tr>\n",
       "      <th>19</th>\n",
       "      <td>28</td>\n",
       "      <td>NaN</td>\n",
       "      <td>NaN</td>\n",
       "      <td>What a goooooooaaaaaal!!!!!!</td>\n",
       "      <td>0</td>\n",
       "    </tr>\n",
       "  </tbody>\n",
       "</table>\n",
       "</div>"
      ],
      "text/plain": [
       "    id keyword location                                               text  \\\n",
       "0    1     NaN      NaN  Our Deeds are the Reason of this #earthquake M...   \n",
       "1    4     NaN      NaN             Forest fire near La Ronge Sask. Canada   \n",
       "2    5     NaN      NaN  All residents asked to 'shelter in place' are ...   \n",
       "3    6     NaN      NaN  13,000 people receive #wildfires evacuation or...   \n",
       "4    7     NaN      NaN  Just got sent this photo from Ruby #Alaska as ...   \n",
       "5    8     NaN      NaN  #RockyFire Update => California Hwy. 20 closed...   \n",
       "6   10     NaN      NaN  #flood #disaster Heavy rain causes flash flood...   \n",
       "7   13     NaN      NaN  I'm on top of the hill and I can see a fire in...   \n",
       "8   14     NaN      NaN  There's an emergency evacuation happening now ...   \n",
       "9   15     NaN      NaN  I'm afraid that the tornado is coming to our a...   \n",
       "10  16     NaN      NaN        Three people died from the heat wave so far   \n",
       "11  17     NaN      NaN  Haha South Tampa is getting flooded hah- WAIT ...   \n",
       "12  18     NaN      NaN  #raining #flooding #Florida #TampaBay #Tampa 1...   \n",
       "13  19     NaN      NaN            #Flood in Bago Myanmar #We arrived Bago   \n",
       "14  20     NaN      NaN  Damage to school bus on 80 in multi car crash ...   \n",
       "15  23     NaN      NaN                                     What's up man?   \n",
       "16  24     NaN      NaN                                      I love fruits   \n",
       "17  25     NaN      NaN                                   Summer is lovely   \n",
       "18  26     NaN      NaN                                  My car is so fast   \n",
       "19  28     NaN      NaN                       What a goooooooaaaaaal!!!!!!   \n",
       "\n",
       "    target  \n",
       "0        1  \n",
       "1        1  \n",
       "2        1  \n",
       "3        1  \n",
       "4        1  \n",
       "5        1  \n",
       "6        1  \n",
       "7        1  \n",
       "8        1  \n",
       "9        1  \n",
       "10       1  \n",
       "11       1  \n",
       "12       1  \n",
       "13       1  \n",
       "14       1  \n",
       "15       0  \n",
       "16       0  \n",
       "17       0  \n",
       "18       0  \n",
       "19       0  "
      ]
     },
     "execution_count": 6,
     "metadata": {},
     "output_type": "execute_result"
    }
   ],
   "source": [
    "# Mostramos los 20 primeros mensajes\n",
    "df_train.head(20)"
   ]
  },
  {
   "cell_type": "code",
   "execution_count": 7,
   "id": "12c34fb7",
   "metadata": {},
   "outputs": [
    {
     "data": {
      "text/plain": [
       "'Forest fire near La Ronge Sask. Canada'"
      ]
     },
     "execution_count": 7,
     "metadata": {},
     "output_type": "execute_result"
    }
   ],
   "source": [
    "#Ejemplos de tweets\n",
    "df_train.text[1]"
   ]
  },
  {
   "cell_type": "code",
   "execution_count": 8,
   "id": "a6bcc681",
   "metadata": {},
   "outputs": [
    {
     "data": {
      "text/plain": [
       "<AxesSubplot: >"
      ]
     },
     "execution_count": 8,
     "metadata": {},
     "output_type": "execute_result"
    },
    {
     "data": {
      "image/png": "[encoded data removed]",
      "text/plain": [
       "<Figure size 2500x1000 with 3 Axes>"
      ]
     },
     "metadata": {},
     "output_type": "display_data"
    }
   ],
   "source": [
    "#Cantidad de datos nulos, \n",
    "msno.bar(df_train)"
   ]
  },
  {
   "cell_type": "code",
   "execution_count": 9,
   "id": "f8934ce9",
   "metadata": {},
   "outputs": [],
   "source": [
    "#Este resumen destaca la presencia de valores ausentes en las variables \"Keyword\" y \"Location\". \n",
    "#La variable \"Keyword\" captura palabras clave y \"Location\" indica el origen del tweet."
   ]
  },
  {
   "cell_type": "code",
   "execution_count": 10,
   "id": "611fded4",
   "metadata": {},
   "outputs": [
    {
     "data": {
      "text/html": [
       "<div>\n",
       "<style scoped>\n",
       "    .dataframe tbody tr th:only-of-type {\n",
       "        vertical-align: middle;\n",
       "    }\n",
       "\n",
       "    .dataframe tbody tr th {\n",
       "        vertical-align: top;\n",
       "    }\n",
       "\n",
       "    .dataframe thead th {\n",
       "        text-align: right;\n",
       "    }\n",
       "</style>\n",
       "<table border=\"1\" class=\"dataframe\">\n",
       "  <thead>\n",
       "    <tr style=\"text-align: right;\">\n",
       "      <th></th>\n",
       "      <th>id</th>\n",
       "      <th>keyword</th>\n",
       "      <th>location</th>\n",
       "      <th>text</th>\n",
       "      <th>target</th>\n",
       "    </tr>\n",
       "  </thead>\n",
       "  <tbody>\n",
       "    <tr>\n",
       "      <th>2644</th>\n",
       "      <td>3796</td>\n",
       "      <td>destruction</td>\n",
       "      <td>NaN</td>\n",
       "      <td>So you have a new weapon that can cause un-ima...</td>\n",
       "      <td>1</td>\n",
       "    </tr>\n",
       "    <tr>\n",
       "      <th>2227</th>\n",
       "      <td>3185</td>\n",
       "      <td>deluge</td>\n",
       "      <td>NaN</td>\n",
       "      <td>The f$&amp;amp;@ing things I do for #GISHWHES Just...</td>\n",
       "      <td>0</td>\n",
       "    </tr>\n",
       "    <tr>\n",
       "      <th>5448</th>\n",
       "      <td>7769</td>\n",
       "      <td>police</td>\n",
       "      <td>UK</td>\n",
       "      <td>DT @georgegalloway: RT @Galloway4Mayor: ÛÏThe...</td>\n",
       "      <td>1</td>\n",
       "    </tr>\n",
       "    <tr>\n",
       "      <th>132</th>\n",
       "      <td>191</td>\n",
       "      <td>aftershock</td>\n",
       "      <td>NaN</td>\n",
       "      <td>Aftershock back to school kick off was great. ...</td>\n",
       "      <td>0</td>\n",
       "    </tr>\n",
       "    <tr>\n",
       "      <th>6845</th>\n",
       "      <td>9810</td>\n",
       "      <td>trauma</td>\n",
       "      <td>Montgomery County, MD</td>\n",
       "      <td>in response to trauma Children of Addicts deve...</td>\n",
       "      <td>0</td>\n",
       "    </tr>\n",
       "    <tr>\n",
       "      <th>...</th>\n",
       "      <td>...</td>\n",
       "      <td>...</td>\n",
       "      <td>...</td>\n",
       "      <td>...</td>\n",
       "      <td>...</td>\n",
       "    </tr>\n",
       "    <tr>\n",
       "      <th>7107</th>\n",
       "      <td>10183</td>\n",
       "      <td>violent%20storm</td>\n",
       "      <td>??? ???? ?f glory. ?</td>\n",
       "      <td>@Skarletan åÇ the storm. A violent swell of em...</td>\n",
       "      <td>0</td>\n",
       "    </tr>\n",
       "    <tr>\n",
       "      <th>6284</th>\n",
       "      <td>8976</td>\n",
       "      <td>storm</td>\n",
       "      <td>Charlotte, NC</td>\n",
       "      <td>Severe T-storm Warning for Union County ~3:45p...</td>\n",
       "      <td>1</td>\n",
       "    </tr>\n",
       "    <tr>\n",
       "      <th>131</th>\n",
       "      <td>190</td>\n",
       "      <td>aftershock</td>\n",
       "      <td>NaN</td>\n",
       "      <td>Aftershock https://t.co/jV8ppKhJY7</td>\n",
       "      <td>0</td>\n",
       "    </tr>\n",
       "    <tr>\n",
       "      <th>4128</th>\n",
       "      <td>5869</td>\n",
       "      <td>hailstorm</td>\n",
       "      <td>Wyoming, MI (Grand Rapids)</td>\n",
       "      <td>If you're gonna take a break at work.... you g...</td>\n",
       "      <td>0</td>\n",
       "    </tr>\n",
       "    <tr>\n",
       "      <th>1406</th>\n",
       "      <td>2028</td>\n",
       "      <td>casualties</td>\n",
       "      <td>Skyport de la Rosa</td>\n",
       "      <td>The more I listen to it the more I believe Cas...</td>\n",
       "      <td>0</td>\n",
       "    </tr>\n",
       "  </tbody>\n",
       "</table>\n",
       "<p>1000 rows × 5 columns</p>\n",
       "</div>"
      ],
      "text/plain": [
       "         id          keyword                    location  \\\n",
       "2644   3796      destruction                         NaN   \n",
       "2227   3185           deluge                         NaN   \n",
       "5448   7769           police                          UK   \n",
       "132     191       aftershock                         NaN   \n",
       "6845   9810           trauma       Montgomery County, MD   \n",
       "...     ...              ...                         ...   \n",
       "7107  10183  violent%20storm        ??? ???? ?f glory. ?   \n",
       "6284   8976            storm               Charlotte, NC   \n",
       "131     190       aftershock                         NaN   \n",
       "4128   5869        hailstorm  Wyoming, MI (Grand Rapids)   \n",
       "1406   2028       casualties          Skyport de la Rosa   \n",
       "\n",
       "                                                   text  target  \n",
       "2644  So you have a new weapon that can cause un-ima...       1  \n",
       "2227  The f$&amp;@ing things I do for #GISHWHES Just...       0  \n",
       "5448  DT @georgegalloway: RT @Galloway4Mayor: ÛÏThe...       1  \n",
       "132   Aftershock back to school kick off was great. ...       0  \n",
       "6845  in response to trauma Children of Addicts deve...       0  \n",
       "...                                                 ...     ...  \n",
       "7107  @Skarletan åÇ the storm. A violent swell of em...       0  \n",
       "6284  Severe T-storm Warning for Union County ~3:45p...       1  \n",
       "131                  Aftershock https://t.co/jV8ppKhJY7       0  \n",
       "4128  If you're gonna take a break at work.... you g...       0  \n",
       "1406  The more I listen to it the more I believe Cas...       0  \n",
       "\n",
       "[1000 rows x 5 columns]"
      ]
     },
     "execution_count": 10,
     "metadata": {},
     "output_type": "execute_result"
    }
   ],
   "source": [
    "#Mezclamos aleatoriamiento las filas\n",
    "\n",
    "df_train_sd = df_train.sample(frac=1, random_state=42)\n",
    "df_train_sd.head(1000)"
   ]
  },
  {
   "cell_type": "code",
   "execution_count": 11,
   "id": "93ef58b0",
   "metadata": {},
   "outputs": [],
   "source": [
    "# La variable target actúa como indicador: toma el valor 1 para mensajes que son desastres y 0 para aquellos que no lo son."
   ]
  },
  {
   "cell_type": "code",
   "execution_count": 12,
   "id": "9adb0231",
   "metadata": {},
   "outputs": [
    {
     "data": {
      "text/html": [
       "<div>\n",
       "<style scoped>\n",
       "    .dataframe tbody tr th:only-of-type {\n",
       "        vertical-align: middle;\n",
       "    }\n",
       "\n",
       "    .dataframe tbody tr th {\n",
       "        vertical-align: top;\n",
       "    }\n",
       "\n",
       "    .dataframe thead th {\n",
       "        text-align: right;\n",
       "    }\n",
       "</style>\n",
       "<table border=\"1\" class=\"dataframe\">\n",
       "  <thead>\n",
       "    <tr style=\"text-align: right;\">\n",
       "      <th></th>\n",
       "      <th>id</th>\n",
       "      <th>keyword</th>\n",
       "      <th>location</th>\n",
       "      <th>text</th>\n",
       "    </tr>\n",
       "  </thead>\n",
       "  <tbody>\n",
       "    <tr>\n",
       "      <th>0</th>\n",
       "      <td>0</td>\n",
       "      <td>NaN</td>\n",
       "      <td>NaN</td>\n",
       "      <td>Just happened a terrible car crash</td>\n",
       "    </tr>\n",
       "    <tr>\n",
       "      <th>1</th>\n",
       "      <td>2</td>\n",
       "      <td>NaN</td>\n",
       "      <td>NaN</td>\n",
       "      <td>Heard about #earthquake is different cities, s...</td>\n",
       "    </tr>\n",
       "    <tr>\n",
       "      <th>2</th>\n",
       "      <td>3</td>\n",
       "      <td>NaN</td>\n",
       "      <td>NaN</td>\n",
       "      <td>there is a forest fire at spot pond, geese are...</td>\n",
       "    </tr>\n",
       "    <tr>\n",
       "      <th>3</th>\n",
       "      <td>9</td>\n",
       "      <td>NaN</td>\n",
       "      <td>NaN</td>\n",
       "      <td>Apocalypse lighting. #Spokane #wildfires</td>\n",
       "    </tr>\n",
       "    <tr>\n",
       "      <th>4</th>\n",
       "      <td>11</td>\n",
       "      <td>NaN</td>\n",
       "      <td>NaN</td>\n",
       "      <td>Typhoon Soudelor kills 28 in China and Taiwan</td>\n",
       "    </tr>\n",
       "  </tbody>\n",
       "</table>\n",
       "</div>"
      ],
      "text/plain": [
       "   id keyword location                                               text\n",
       "0   0     NaN      NaN                 Just happened a terrible car crash\n",
       "1   2     NaN      NaN  Heard about #earthquake is different cities, s...\n",
       "2   3     NaN      NaN  there is a forest fire at spot pond, geese are...\n",
       "3   9     NaN      NaN           Apocalypse lighting. #Spokane #wildfires\n",
       "4  11     NaN      NaN      Typhoon Soudelor kills 28 in China and Taiwan"
      ]
     },
     "execution_count": 12,
     "metadata": {},
     "output_type": "execute_result"
    }
   ],
   "source": [
    "# Mostramos las 5 primeras filas de nuestra data de testeo\n",
    "df_test.head()"
   ]
  },
  {
   "cell_type": "code",
   "execution_count": 13,
   "id": "49bec037",
   "metadata": {},
   "outputs": [
    {
     "data": {
      "image/png": "[encoded data removed]",
      "text/plain": [
       "<Figure size 700x500 with 1 Axes>"
      ]
     },
     "metadata": {},
     "output_type": "display_data"
    }
   ],
   "source": [
    "#Cantidad de tweets por desastres\n",
    "Real_len = df_train[df_train['target'] == 1].shape[0]\n",
    "Not_len = df_train[df_train['target'] == 0].shape[0]\n",
    "# bar plot de clases\n",
    "plt.rcParams['figure.figsize'] = (7, 5)\n",
    "plt.bar(10,Real_len,3, label=\"Real\")\n",
    "plt.bar(15,Not_len,3, label=\"Not\")\n",
    "plt.legend()\n",
    "plt.ylabel('Numero de ejemplos')\n",
    "plt.title('Proporcion de ejemplos')\n",
    "plt.show()"
   ]
  },
  {
   "cell_type": "code",
   "execution_count": 14,
   "id": "580151c9",
   "metadata": {},
   "outputs": [
    {
     "data": {
      "text/plain": [
       "(3271, 4342)"
      ]
     },
     "execution_count": 14,
     "metadata": {},
     "output_type": "execute_result"
    }
   ],
   "source": [
    "Real_len , Not_len"
   ]
  },
  {
   "cell_type": "code",
   "execution_count": 15,
   "id": "556b7259",
   "metadata": {},
   "outputs": [
    {
     "data": {
      "text/plain": [
       "0        69\n",
       "1        38\n",
       "2       133\n",
       "3        65\n",
       "4        88\n",
       "       ... \n",
       "7608     83\n",
       "7609    125\n",
       "7610     65\n",
       "7611    137\n",
       "7612     94\n",
       "Name: text, Length: 3271, dtype: int64"
      ]
     },
     "execution_count": 15,
     "metadata": {},
     "output_type": "execute_result"
    }
   ],
   "source": [
    "#Calculamos la cantidad de letras por tweet\n",
    "df_train[df_train['target']==1]['text'].str.len()"
   ]
  },
  {
   "cell_type": "code",
   "execution_count": 16,
   "id": "f55af10e",
   "metadata": {},
   "outputs": [
    {
     "data": {
      "image/png": "[encoded data removed]",
      "text/plain": [
       "<Figure size 1000x500 with 2 Axes>"
      ]
     },
     "metadata": {},
     "output_type": "display_data"
    }
   ],
   "source": [
    "# Cantidad de letras por tweets\n",
    "\n",
    "fig, (ax1, ax2) = plt.subplots(1, 2, figsize = (10,5))\n",
    "\n",
    "tweet_len1 = df_train[df_train['target'] == 1]['text'].str.len()\n",
    "ax1.hist(tweet_len1, color='blue')\n",
    "ax1.set_title('disaster tweets')\n",
    "tweet_len2 = df_train[df_train['target'] == 0]['text'].str.len()\n",
    "ax2.hist(tweet_len2, color='red')\n",
    "ax2.set_title('Not disaster tweets')\n",
    "\n",
    "plt.show()"
   ]
  },
  {
   "cell_type": "code",
   "execution_count": 17,
   "id": "59c03521",
   "metadata": {},
   "outputs": [
    {
     "data": {
      "text/plain": [
       "(151, 157)"
      ]
     },
     "execution_count": 17,
     "metadata": {},
     "output_type": "execute_result"
    }
   ],
   "source": [
    "# Mostramos la cantidad maxima de letras por cada target \n",
    "max(tweet_len1), max(tweet_len2)"
   ]
  },
  {
   "cell_type": "code",
   "execution_count": 18,
   "id": "f6097f52",
   "metadata": {},
   "outputs": [
    {
     "data": {
      "image/png": "[encoded data removed]",
      "text/plain": [
       "<Figure size 1000x500 with 2 Axes>"
      ]
     },
     "metadata": {},
     "output_type": "display_data"
    }
   ],
   "source": [
    "# Promedio de cantidad de palabras por tweet\n",
    "\n",
    "fig, (ax1,ax2)=plt.subplots(1,2,figsize=(10,5))\n",
    "\n",
    "word1 = df_train[df_train['target']==1]['text'].str.split().apply(lambda x:[len(i) for i in x])\n",
    "\n",
    "sns.histplot(word1.map(lambda x: np.mean(x)), kde=True, ax = ax1, color= 'blue')\n",
    "\n",
    "ax1.set_title('disaster tweets')\n",
    "\n",
    "word2 = df_train[df_train['target']==0]['text'].str.split().apply(lambda x:[len(i) for i in x])\n",
    "\n",
    "sns.histplot(word2.map(lambda x: np.mean(x)),kde=True, ax = ax2, color= 'red')\n",
    "ax2.set_title('Not disaster tweets')\n",
    "\n",
    "plt.show()"
   ]
  },
  {
   "cell_type": "code",
   "execution_count": 19,
   "id": "1b01de75",
   "metadata": {},
   "outputs": [
    {
     "data": {
      "text/plain": [
       "(7613, 3263)"
      ]
     },
     "execution_count": 19,
     "metadata": {},
     "output_type": "execute_result"
    }
   ],
   "source": [
    "#Cuantos mesajes hay por cada dataset\n",
    "len(df_train), len(df_test)"
   ]
  },
  {
   "cell_type": "code",
   "execution_count": 20,
   "id": "d3b91565",
   "metadata": {},
   "outputs": [
    {
     "name": "stdout",
     "output_type": "stream",
     "text": [
      "Target: 1 (Desastre real)\n",
      "Texto:\n",
      "Nigerian Military Rescue 178 Hostages From Boko Haram - Florida Sentinel Bulletin: Florid... http://t.co/KcTiGYMahl #security #terrorism\n",
      "\n",
      "---\n",
      "\n",
      "Target: 1 (Desastre real)\n",
      "Texto:\n",
      "Be ember aware! http://t.co/LZmL1xB2nH\n",
      "\n",
      "---\n",
      "\n",
      "Target: 1 (Desastre real)\n",
      "Texto:\n",
      "The Catastrophic Effects of Hiroshima and Nagasaki Atomic Bombings Still Being Felt Today http://t.co/1kRPz3j1EU\n",
      "\n",
      "---\n",
      "\n",
      "Target: 1 (Desastre real)\n",
      "Texto:\n",
      "LA Times: Refugio oil spill may have been costlier bigger than projected http://t.co/g37huJx6et\n",
      "\n",
      "---\n",
      "\n",
      "Target: 0 (No es un desastre)\n",
      "Texto:\n",
      "@mickinyman @TheAtlantic That or they might be killed in an airplane accident in the night a car wreck! Politics at it's best.\n",
      "\n",
      "---\n",
      "\n"
     ]
    }
   ],
   "source": [
    "#Vamos a visualizar algunos tweets de mensajes de entrenamiento, usamos la libreria random para que nos muestreb tweets aleatorios\n",
    "import random\n",
    "\n",
    "ran_index = random.randint(0, len(df_train)-5)\n",
    "\n",
    "for row in df_train_sd[[\"text\", \"target\"]][ran_index:ran_index+5].itertuples():\n",
    "    _, text, target = row\n",
    "    print(f\"Target: {target}\", \"(Desastre real)\" if target > 0 else \"(No es un desastre)\")\n",
    "    print(f\"Texto:\\n{text}\\n\")\n",
    "    print(\"---\\n\")\n",
    "    "
   ]
  },
  {
   "cell_type": "code",
   "execution_count": 21,
   "id": "54c94112",
   "metadata": {},
   "outputs": [],
   "source": [
    "#Vamos a dividir los datos para entrenamiento y validacion"
   ]
  },
  {
   "cell_type": "code",
   "execution_count": 22,
   "id": "2e25e525",
   "metadata": {},
   "outputs": [],
   "source": [
    "#Usaremos la libreria de sklearn \n",
    "from  sklearn.model_selection import train_test_split\n",
    "train_sentences, val_sentences, train_labels, val_labels = train_test_split(df_train_sd[\"text\"].to_numpy(),\n",
    "                                                                            df_train_sd[\"target\"].to_numpy(), \n",
    "                                                                            test_size= 0.1, \n",
    "                                                                            random_state=42)"
   ]
  },
  {
   "cell_type": "code",
   "execution_count": 23,
   "id": "08bca7fa",
   "metadata": {},
   "outputs": [
    {
     "data": {
      "text/plain": [
       "(array(['@mogacola @zamtriossu i screamed after hitting tweet',\n",
       "        'Imagine getting flattened by Kurt Zouma',\n",
       "        '@Gurmeetramrahim #MSGDoing111WelfareWorks Green S welfare force ke appx 65000 members har time disaster victim ki help ke liye tyar hai....',\n",
       "        \"@shakjn @C7 @Magnums im shaking in fear he's gonna hack the planet\",\n",
       "        'Somehow find you and I collide http://t.co/Ee8RpOahPk',\n",
       "        '@EvaHanderek @MarleyKnysh great times until the bus driver held us hostage in the mall parking lot lmfao',\n",
       "        'destroy the free fandom honestly',\n",
       "        'Weapons stolen from National Guard Armory in New Albany still missing #Gunsense http://t.co/lKNU8902JE',\n",
       "        '@wfaaweather Pete when will the heat wave pass? Is it really going to be mid month? Frisco Boy Scouts have a canoe trip in Okla.',\n",
       "        'Patient-reported outcomes in long-term survivors of metastatic colorectal cancer - British Journal of Surgery http://t.co/5Yl4DC1Tqt'],\n",
       "       dtype=object),\n",
       " array([0, 0, 1, 0, 0, 1, 1, 0, 1, 1], dtype=int64))"
      ]
     },
     "execution_count": 23,
     "metadata": {},
     "output_type": "execute_result"
    }
   ],
   "source": [
    "# Vamos a ver algunos ejemplos de nuestros datos de entrenamiento\n",
    "train_sentences[:10], train_labels[:10]"
   ]
  },
  {
   "cell_type": "code",
   "execution_count": 24,
   "id": "ff465543",
   "metadata": {},
   "outputs": [],
   "source": [
    "# Convertiremos el texto a numero"
   ]
  },
  {
   "cell_type": "markdown",
   "id": "0b30078a",
   "metadata": {},
   "source": [
    "## Tratamiento de texto"
   ]
  },
  {
   "cell_type": "code",
   "execution_count": 25,
   "id": "f7108856",
   "metadata": {},
   "outputs": [],
   "source": [
    "# Usaremos la tokenizacion de tensorflow https://keras.io/api/layers/preprocessing_layers/text/text_vectorization/\n",
    "import tensorflow as tf\n",
    "from tensorflow.keras.layers.experimental.preprocessing import TextVectorization\n",
    "\n",
    "text_vectorizer = TextVectorization(max_tokens=10000, \n",
    "                                    standardize =\"lower_and_strip_punctuation\",\n",
    "                                    split=\"whitespace\",\n",
    "                                    ngrams = None,\n",
    "                                    output_mode = \"int\",\n",
    "                                    output_sequence_length=None,\n",
    "                                    pad_to_max_tokens=True)"
   ]
  },
  {
   "cell_type": "code",
   "execution_count": 26,
   "id": "9e34cbba",
   "metadata": {},
   "outputs": [
    {
     "data": {
      "text/plain": [
       "15"
      ]
     },
     "execution_count": 26,
     "metadata": {},
     "output_type": "execute_result"
    }
   ],
   "source": [
    "# cualcula el promedio de tokens por twets\n",
    "max_length = round(sum([len(i.split()) for i in train_sentences])/len(train_sentences))\n",
    "max_length"
   ]
  },
  {
   "cell_type": "code",
   "execution_count": 27,
   "id": "744c3810",
   "metadata": {},
   "outputs": [],
   "source": [
    "text_vectorizer = TextVectorization(max_tokens=10000, \n",
    "                                    standardize =\"lower_and_strip_punctuation\",\n",
    "                                    split=\"whitespace\",\n",
    "                                    ngrams = None,\n",
    "                                    output_mode = \"int\",\n",
    "                                    output_sequence_length= max_length,\n",
    "                                    pad_to_max_tokens=True)"
   ]
  },
  {
   "cell_type": "code",
   "execution_count": 28,
   "id": "2b07324b",
   "metadata": {},
   "outputs": [],
   "source": [
    "text_vectorizer.adapt(train_sentences)"
   ]
  },
  {
   "cell_type": "code",
   "execution_count": 29,
   "id": "49817328",
   "metadata": {},
   "outputs": [
    {
     "name": "stdout",
     "output_type": "stream",
     "text": [
      "Texto original: \n",
      " Harshness Follows Us a\n",
      "Better Day\n",
      "by Sarah C\n",
      "Racing thoughts with screaming sirens\n",
      "Pacing back and forth for... http://t.co/ProNtOuo91\\n\n",
      "Version vectorizada:\n"
     ]
    },
    {
     "data": {
      "text/plain": [
       "<tf.Tensor: shape=(1, 15), dtype=int64, numpy=\n",
       "array([[   1, 2992,   69,    3,  441,  101,   18, 2306, 2170, 4817, 1950,\n",
       "          14,  311,  568,    1]], dtype=int64)>"
      ]
     },
     "execution_count": 29,
     "metadata": {},
     "output_type": "execute_result"
    }
   ],
   "source": [
    "#Usamos la funcion random para comparar los tweets y su version vectorizada\n",
    "random_sentence = random.choice(train_sentences)\n",
    "print(f\"Texto original: \\n {random_sentence}\\\\n\\nVersion vectorizada:\")\n",
    "\n",
    "text_vectorizer([random_sentence])"
   ]
  },
  {
   "cell_type": "code",
   "execution_count": 30,
   "id": "d2db194a",
   "metadata": {},
   "outputs": [
    {
     "name": "stdout",
     "output_type": "stream",
     "text": [
      "Numero de palabras en el diccionario: 10000\n",
      "Las 5 palabras mas frecuentes: ['', '[UNK]', 'the', 'a', 'in']\n",
      "Las 5 palabras menos usadas: ['pages', 'paeds', 'pads', 'padres', 'paddytomlinson1']\n"
     ]
    }
   ],
   "source": [
    "#creamos nuesto diccionario\n",
    "\n",
    "words_in_vocabulary = text_vectorizer.get_vocabulary()\n",
    "\n",
    "top_5_words = words_in_vocabulary[:5]\n",
    "bottom_5_words = words_in_vocabulary[-5:]\n",
    "print(f\"Numero de palabras en el diccionario: {len(words_in_vocabulary)}\")\n",
    "print(f\"Las 5 palabras mas frecuentes: {top_5_words}\")\n",
    "print(f\"Las 5 palabras menos usadas: {bottom_5_words}\")"
   ]
  },
  {
   "cell_type": "markdown",
   "id": "69b4510c",
   "metadata": {},
   "source": [
    "https://keras.io/api/layers/core_layers/embedding/"
   ]
  },
  {
   "cell_type": "code",
   "execution_count": 31,
   "id": "dc7189d7",
   "metadata": {},
   "outputs": [
    {
     "data": {
      "text/plain": [
       "<keras.src.layers.core.embedding.Embedding at 0x2e1f80117f0>"
      ]
     },
     "execution_count": 31,
     "metadata": {},
     "output_type": "execute_result"
    }
   ],
   "source": [
    "from tensorflow.keras import layers\n",
    "\n",
    "embedding = layers.Embedding(input_dim=10000, output_dim=128, input_length=max_length)\n",
    "embedding"
   ]
  },
  {
   "cell_type": "code",
   "execution_count": 32,
   "id": "f8067510",
   "metadata": {},
   "outputs": [
    {
     "name": "stdout",
     "output_type": "stream",
     "text": [
      "Texto original: \n",
      " Finnish ministers: Fennovoima nuclear reactor will go ahead http://t.co/mqMCOLwBzc\\n\n",
      "Version Embedded:\n"
     ]
    },
    {
     "data": {
      "text/plain": [
       "<tf.Tensor: shape=(1, 15, 128), dtype=float32, numpy=\n",
       "array([[[-0.02620705,  0.03332034,  0.04223884, ..., -0.00989915,\n",
       "         -0.04219445,  0.03558644],\n",
       "        [ 0.04284331, -0.01481979,  0.02412594, ...,  0.02343564,\n",
       "         -0.00981852, -0.01315828],\n",
       "        [-0.0467748 , -0.02157801, -0.0093432 , ..., -0.0282401 ,\n",
       "          0.01499888, -0.03073658],\n",
       "        ...,\n",
       "        [ 0.03216621, -0.0375846 , -0.01931648, ...,  0.01709162,\n",
       "          0.00011279, -0.03006339],\n",
       "        [ 0.03216621, -0.0375846 , -0.01931648, ...,  0.01709162,\n",
       "          0.00011279, -0.03006339],\n",
       "        [ 0.03216621, -0.0375846 , -0.01931648, ...,  0.01709162,\n",
       "          0.00011279, -0.03006339]]], dtype=float32)>"
      ]
     },
     "execution_count": 32,
     "metadata": {},
     "output_type": "execute_result"
    }
   ],
   "source": [
    "#Usamos la funcion random para comparar los tweets y su version vectorizada\n",
    "import random\n",
    "random_sentence = random.choice(train_sentences)\n",
    "print(f\"Texto original: \\n {random_sentence}\\\\n\\nVersion Embedded:\")\n",
    "sample_embed = embedding(text_vectorizer([random_sentence]))\n",
    "sample_embed"
   ]
  },
  {
   "cell_type": "code",
   "execution_count": 33,
   "id": "60551edc",
   "metadata": {},
   "outputs": [
    {
     "data": {
      "text/plain": [
       "TensorShape([128])"
      ]
     },
     "execution_count": 33,
     "metadata": {},
     "output_type": "execute_result"
    }
   ],
   "source": [
    "sample_embed[0][0].shape"
   ]
  },
  {
   "cell_type": "markdown",
   "id": "ae57b90f",
   "metadata": {},
   "source": [
    "## Modelado\n",
    "\n",
    "Usaremos diferentes modelos y luego compararemos segun sus parametros y el tiempo de respuesta."
   ]
  },
  {
   "cell_type": "markdown",
   "id": "22468832",
   "metadata": {},
   "source": [
    "### Modelo Base"
   ]
  },
  {
   "cell_type": "markdown",
   "id": "121338c2",
   "metadata": {},
   "source": [
    "El modelo Naive Bayes es un algoritmo de aprendizaje supervisado utilizado en el procesamiento del lenguaje natural. A pesar de su suposición simplificada de independencia entre características, es efectivo en la clasificación de texto, como en la detección de spam o análisis de sentimientos. Se basa en el teorema de Bayes, calculando la probabilidad de que un documento pertenezca a una clase dada su evidencia. Aunque su enfoque \"ingenuo\" puede no ser siempre preciso en el lenguaje natural, sigue siendo útil en diversas aplicaciones de PLN y ofrece una base sólida para comenzar en proyectos de análisis textual.\n",
    "\n",
    "https://scikit-learn.org/stable/modules/naive_bayes.html"
   ]
  },
  {
   "cell_type": "code",
   "execution_count": 34,
   "id": "8ca32c33",
   "metadata": {},
   "outputs": [
    {
     "data": {
      "text/html": [
       "<style>#sk-container-id-1 {color: black;background-color: white;}#sk-container-id-1 pre{padding: 0;}#sk-container-id-1 div.sk-toggleable {background-color: white;}#sk-container-id-1 label.sk-toggleable__label {cursor: pointer;display: block;width: 100%;margin-bottom: 0;padding: 0.3em;box-sizing: border-box;text-align: center;}#sk-container-id-1 label.sk-toggleable__label-arrow:before {content: \"▸\";float: left;margin-right: 0.25em;color: #696969;}#sk-container-id-1 label.sk-toggleable__label-arrow:hover:before {color: black;}#sk-container-id-1 div.sk-estimator:hover label.sk-toggleable__label-arrow:before {color: black;}#sk-container-id-1 div.sk-toggleable__content {max-height: 0;max-width: 0;overflow: hidden;text-align: left;background-color: #f0f8ff;}#sk-container-id-1 div.sk-toggleable__content pre {margin: 0.2em;color: black;border-radius: 0.25em;background-color: #f0f8ff;}#sk-container-id-1 input.sk-toggleable__control:checked~div.sk-toggleable__content {max-height: 200px;max-width: 100%;overflow: auto;}#sk-container-id-1 input.sk-toggleable__control:checked~label.sk-toggleable__label-arrow:before {content: \"▾\";}#sk-container-id-1 div.sk-estimator input.sk-toggleable__control:checked~label.sk-toggleable__label {background-color: #d4ebff;}#sk-container-id-1 div.sk-label input.sk-toggleable__control:checked~label.sk-toggleable__label {background-color: #d4ebff;}#sk-container-id-1 input.sk-hidden--visually {border: 0;clip: rect(1px 1px 1px 1px);clip: rect(1px, 1px, 1px, 1px);height: 1px;margin: -1px;overflow: hidden;padding: 0;position: absolute;width: 1px;}#sk-container-id-1 div.sk-estimator {font-family: monospace;background-color: #f0f8ff;border: 1px dotted black;border-radius: 0.25em;box-sizing: border-box;margin-bottom: 0.5em;}#sk-container-id-1 div.sk-estimator:hover {background-color: #d4ebff;}#sk-container-id-1 div.sk-parallel-item::after {content: \"\";width: 100%;border-bottom: 1px solid gray;flex-grow: 1;}#sk-container-id-1 div.sk-label:hover label.sk-toggleable__label {background-color: #d4ebff;}#sk-container-id-1 div.sk-serial::before {content: \"\";position: absolute;border-left: 1px solid gray;box-sizing: border-box;top: 0;bottom: 0;left: 50%;z-index: 0;}#sk-container-id-1 div.sk-serial {display: flex;flex-direction: column;align-items: center;background-color: white;padding-right: 0.2em;padding-left: 0.2em;position: relative;}#sk-container-id-1 div.sk-item {position: relative;z-index: 1;}#sk-container-id-1 div.sk-parallel {display: flex;align-items: stretch;justify-content: center;background-color: white;position: relative;}#sk-container-id-1 div.sk-item::before, #sk-container-id-1 div.sk-parallel-item::before {content: \"\";position: absolute;border-left: 1px solid gray;box-sizing: border-box;top: 0;bottom: 0;left: 50%;z-index: -1;}#sk-container-id-1 div.sk-parallel-item {display: flex;flex-direction: column;z-index: 1;position: relative;background-color: white;}#sk-container-id-1 div.sk-parallel-item:first-child::after {align-self: flex-end;width: 50%;}#sk-container-id-1 div.sk-parallel-item:last-child::after {align-self: flex-start;width: 50%;}#sk-container-id-1 div.sk-parallel-item:only-child::after {width: 0;}#sk-container-id-1 div.sk-dashed-wrapped {border: 1px dashed gray;margin: 0 0.4em 0.5em 0.4em;box-sizing: border-box;padding-bottom: 0.4em;background-color: white;}#sk-container-id-1 div.sk-label label {font-family: monospace;font-weight: bold;display: inline-block;line-height: 1.2em;}#sk-container-id-1 div.sk-label-container {text-align: center;}#sk-container-id-1 div.sk-container {/* jupyter's `normalize.less` sets `[hidden] { display: none; }` but bootstrap.min.css set `[hidden] { display: none !important; }` so we also need the `!important` here to be able to override the default hidden behavior on the sphinx rendered scikit-learn.org. See: https://github.com/scikit-learn/scikit-learn/issues/21755 */display: inline-block !important;position: relative;}#sk-container-id-1 div.sk-text-repr-fallback {display: none;}</style><div id=\"sk-container-id-1\" class=\"sk-top-container\"><div class=\"sk-text-repr-fallback\"><pre>Pipeline(steps=[(&#x27;tfidf&#x27;, TfidfVectorizer()), (&#x27;clf&#x27;, MultinomialNB())])</pre><b>In a Jupyter environment, please rerun this cell to show the HTML representation or trust the notebook. <br />On GitHub, the HTML representation is unable to render, please try loading this page with nbviewer.org.</b></div><div class=\"sk-container\" hidden><div class=\"sk-item sk-dashed-wrapped\"><div class=\"sk-label-container\"><div class=\"sk-label sk-toggleable\"><input class=\"sk-toggleable__control sk-hidden--visually\" id=\"sk-estimator-id-1\" type=\"checkbox\" ><label for=\"sk-estimator-id-1\" class=\"sk-toggleable__label sk-toggleable__label-arrow\">Pipeline</label><div class=\"sk-toggleable__content\"><pre>Pipeline(steps=[(&#x27;tfidf&#x27;, TfidfVectorizer()), (&#x27;clf&#x27;, MultinomialNB())])</pre></div></div></div><div class=\"sk-serial\"><div class=\"sk-item\"><div class=\"sk-estimator sk-toggleable\"><input class=\"sk-toggleable__control sk-hidden--visually\" id=\"sk-estimator-id-2\" type=\"checkbox\" ><label for=\"sk-estimator-id-2\" class=\"sk-toggleable__label sk-toggleable__label-arrow\">TfidfVectorizer</label><div class=\"sk-toggleable__content\"><pre>TfidfVectorizer()</pre></div></div></div><div class=\"sk-item\"><div class=\"sk-estimator sk-toggleable\"><input class=\"sk-toggleable__control sk-hidden--visually\" id=\"sk-estimator-id-3\" type=\"checkbox\" ><label for=\"sk-estimator-id-3\" class=\"sk-toggleable__label sk-toggleable__label-arrow\">MultinomialNB</label><div class=\"sk-toggleable__content\"><pre>MultinomialNB()</pre></div></div></div></div></div></div></div>"
      ],
      "text/plain": [
       "Pipeline(steps=[('tfidf', TfidfVectorizer()), ('clf', MultinomialNB())])"
      ]
     },
     "execution_count": 34,
     "metadata": {},
     "output_type": "execute_result"
    }
   ],
   "source": [
    "from sklearn.feature_extraction.text import TfidfVectorizer\n",
    "from sklearn.naive_bayes import MultinomialNB\n",
    "from sklearn.pipeline import Pipeline\n",
    "\n",
    "model_0 = Pipeline([(\"tfidf\", TfidfVectorizer()), (\"clf\", MultinomialNB())])\n",
    "\n",
    "model_0.fit(train_sentences, train_labels)"
   ]
  },
  {
   "cell_type": "code",
   "execution_count": 35,
   "id": "59cc13ed",
   "metadata": {},
   "outputs": [
    {
     "name": "stdout",
     "output_type": "stream",
     "text": [
      "Nuestro modelo base alcanza una precisión de: 79.27%\n"
     ]
    }
   ],
   "source": [
    "baseline_score = model_0.score(val_sentences, val_labels)\n",
    "print(f\"Nuestro modelo base alcanza una precisión de: {baseline_score*100:.2f}%\")"
   ]
  },
  {
   "cell_type": "code",
   "execution_count": 36,
   "id": "275c9d2f",
   "metadata": {},
   "outputs": [
    {
     "data": {
      "text/plain": [
       "array([1, 1, 1, 0, 0, 1, 1, 1, 1, 0, 0, 1, 0, 0, 0, 0, 0, 0, 0, 1],\n",
       "      dtype=int64)"
      ]
     },
     "execution_count": 36,
     "metadata": {},
     "output_type": "execute_result"
    }
   ],
   "source": [
    "# Realizamos las prediciones\n",
    "baseline_preds = model_0.predict(val_sentences)\n",
    "\n",
    "baseline_preds[:20]"
   ]
  },
  {
   "cell_type": "code",
   "execution_count": 37,
   "id": "255bfbb4",
   "metadata": {},
   "outputs": [],
   "source": [
    "# Funcion para obtener: accuracy, precision, recall, f1-score\n",
    "from sklearn.metrics import accuracy_score, precision_recall_fscore_support\n",
    "\n",
    "def calculate_results(y_true, y_pred):\n",
    "    # Calcular el accuracy\n",
    "    model_accuracy = accuracy_score(y_true, y_pred) * 100\n",
    "    # Calcular la precision, recall y f1 del modelo\n",
    "    model_precision, model_recall, model_f1, _ = precision_recall_fscore_support(y_true, y_pred, average=\"weighted\")\n",
    "    model_results = {\"accuracy\": model_accuracy,\n",
    "                  \"precision\": model_precision,\n",
    "                  \"recall\": model_recall,\n",
    "                  \"f1\": model_f1}\n",
    "    return model_results"
   ]
  },
  {
   "cell_type": "code",
   "execution_count": 38,
   "id": "568e4a8a",
   "metadata": {},
   "outputs": [
    {
     "data": {
      "text/plain": [
       "{'accuracy': 79.26509186351706,\n",
       " 'precision': 0.8111390004213173,\n",
       " 'recall': 0.7926509186351706,\n",
       " 'f1': 0.7862189758049549}"
      ]
     },
     "execution_count": 38,
     "metadata": {},
     "output_type": "execute_result"
    }
   ],
   "source": [
    "baseline_results = calculate_results(y_true=val_labels,\n",
    "                                     y_pred=baseline_preds)\n",
    "baseline_results"
   ]
  },
  {
   "cell_type": "markdown",
   "id": "a3ea0952",
   "metadata": {},
   "source": [
    "### Model 2: Dense "
   ]
  },
  {
   "cell_type": "code",
   "execution_count": 39,
   "id": "0c7fe350",
   "metadata": {},
   "outputs": [],
   "source": [
    "SAVE_DIR = \"model_logs\""
   ]
  },
  {
   "cell_type": "code",
   "execution_count": 40,
   "id": "411bbe44",
   "metadata": {},
   "outputs": [],
   "source": [
    "from tensorflow.keras import layers\n",
    "\n",
    "# Definición de la entrada de la red: datos de texto\n",
    "inputs = layers.Input(shape=(1,), dtype=tf.string)\n",
    "\n",
    "# Aplicación del vectorizador de texto a las entradas\n",
    "x = text_vectorizer(inputs)\n",
    "\n",
    "# Aplicación de una capa de embedding para representar palabras en un espacio vectorial\n",
    "x = embedding(x)\n",
    "\n",
    "# Aplicación de una capa de Global Average Pooling para obtener características agregadas\n",
    "x = layers.GlobalAveragePooling1D()(x)\n",
    "\n",
    "# Capa de salida densa con función de activación sigmoide para la clasificación binaria\n",
    "outputs = layers.Dense(1, activation=\"sigmoid\")(x)\n",
    "\n",
    "# Creación del modelo con las capas de entrada y salida definidas\n",
    "model_1 = tf.keras.Model(inputs, outputs, name=\"model_1_dense\")"
   ]
  },
  {
   "cell_type": "code",
   "execution_count": 41,
   "id": "ef76faac",
   "metadata": {},
   "outputs": [
    {
     "name": "stdout",
     "output_type": "stream",
     "text": [
      "Model: \"model_1_dense\"\n",
      "_________________________________________________________________\n",
      " Layer (type)                Output Shape              Param #   \n",
      "=================================================================\n",
      " input_1 (InputLayer)        [(None, 1)]               0         \n",
      "                                                                 \n",
      " text_vectorization_1 (Text  (None, 15)                0         \n",
      " Vectorization)                                                  \n",
      "                                                                 \n",
      " embedding (Embedding)       (None, 15, 128)           1280000   \n",
      "                                                                 \n",
      " global_average_pooling1d (  (None, 128)               0         \n",
      " GlobalAveragePooling1D)                                         \n",
      "                                                                 \n",
      " dense (Dense)               (None, 1)                 129       \n",
      "                                                                 \n",
      "=================================================================\n",
      "Total params: 1280129 (4.88 MB)\n",
      "Trainable params: 1280129 (4.88 MB)\n",
      "Non-trainable params: 0 (0.00 Byte)\n",
      "_________________________________________________________________\n"
     ]
    }
   ],
   "source": [
    "model_1.summary()"
   ]
  },
  {
   "cell_type": "code",
   "execution_count": 42,
   "id": "70f25b0c",
   "metadata": {},
   "outputs": [],
   "source": [
    "# Compilación del modelo:\n",
    "# Se define la función de pérdida 'binary_crossentropy' debido a que se trata de un problema de clasificación binaria.\n",
    "\n",
    "model_1.compile(loss='binary_crossentropy',  # Utiliza la función de pérdida binary_crossentropy\n",
    "                optimizer=tf.keras.optimizers.Adam(),  # Selecciona el optimizador Adam para ajustar los pesos\n",
    "                metrics=[\"accuracy\"])  # Selecciona la métrica de evaluación \"accuracy\" (exactitud)\n"
   ]
  },
  {
   "cell_type": "code",
   "execution_count": 43,
   "id": "26fd9020",
   "metadata": {},
   "outputs": [
    {
     "name": "stdout",
     "output_type": "stream",
     "text": [
      "Saving TensorBoard log files to: model_logs/simple_dense_model/20230815-193730\n",
      "Epoch 1/5\n",
      "215/215 [==============================] - 4s 15ms/step - loss: 0.6125 - accuracy: 0.6942 - val_loss: 0.5370 - val_accuracy: 0.7559\n",
      "Epoch 2/5\n",
      "215/215 [==============================] - 3s 14ms/step - loss: 0.4400 - accuracy: 0.8189 - val_loss: 0.4723 - val_accuracy: 0.7835\n",
      "Epoch 3/5\n",
      "215/215 [==============================] - 3s 14ms/step - loss: 0.3460 - accuracy: 0.8603 - val_loss: 0.4567 - val_accuracy: 0.7927\n",
      "Epoch 4/5\n",
      "215/215 [==============================] - 3s 14ms/step - loss: 0.2838 - accuracy: 0.8930 - val_loss: 0.4657 - val_accuracy: 0.7887\n",
      "Epoch 5/5\n",
      "215/215 [==============================] - 3s 14ms/step - loss: 0.2378 - accuracy: 0.9121 - val_loss: 0.4777 - val_accuracy: 0.7835\n"
     ]
    }
   ],
   "source": [
    "# Entrenamiento del modelo:\n",
    "# Se utiliza el método fit para entrenar el modelo con los datos de entrenamiento.\n",
    "\n",
    "model_1_history = model_1.fit(train_sentences,  # Datos de texto de entrenamiento\n",
    "                              train_labels,  # Etiquetas correspondientes a los datos de entrenamiento\n",
    "                              epochs=5,  # Número de épocas de entrenamiento\n",
    "                              validation_data=(val_sentences, val_labels),  # Datos de validación para evaluar el modelo durante el entrenamiento\n",
    "                              callbacks=[create_tensorboard_callback(dir_name=SAVE_DIR,  # Lista de devoluciones de llamada para el seguimiento del entrenamiento\n",
    "                                                                     experiment_name=\"simple_dense_model\")])  # Nombre del modelo para TensorBoard\n"
   ]
  },
  {
   "cell_type": "code",
   "execution_count": 44,
   "id": "d531cd0d",
   "metadata": {},
   "outputs": [
    {
     "name": "stdout",
     "output_type": "stream",
     "text": [
      "24/24 [==============================] - 0s 2ms/step - loss: 0.4777 - accuracy: 0.7835\n"
     ]
    },
    {
     "data": {
      "text/plain": [
       "[0.47771328687667847, 0.7834645509719849]"
      ]
     },
     "execution_count": 44,
     "metadata": {},
     "output_type": "execute_result"
    }
   ],
   "source": [
    "#Evaluamos los modelos\n",
    "model_1.evaluate(val_sentences, val_labels)"
   ]
  },
  {
   "cell_type": "code",
   "execution_count": 45,
   "id": "3622d366",
   "metadata": {},
   "outputs": [
    {
     "name": "stdout",
     "output_type": "stream",
     "text": [
      "24/24 [==============================] - 0s 1ms/step\n"
     ]
    },
    {
     "data": {
      "text/plain": [
       "<tf.Tensor: shape=(20,), dtype=float32, numpy=\n",
       "array([0., 1., 1., 0., 0., 1., 1., 1., 1., 0., 0., 1., 0., 0., 0., 0., 0.,\n",
       "       0., 0., 1.], dtype=float32)>"
      ]
     },
     "execution_count": 45,
     "metadata": {},
     "output_type": "execute_result"
    }
   ],
   "source": [
    "# Como en la ultima capa tenemos una funcion 'sigmoid', el resultado es una probabilidad\n",
    "# Es por eso que si nos da un resultado <= 0.5 se redondeara a 0 y si >0.5 entonces se redondeara a 1\n",
    "model_1_pred_probs = model_1.predict(val_sentences)\n",
    "model_1_pred_probs[:10] # only print out the first 10 prediction probabilities\n",
    "model_1_preds = tf.squeeze(tf.round(model_1_pred_probs)) # squeeze removes single dimensions\n",
    "model_1_preds[:20]"
   ]
  },
  {
   "cell_type": "code",
   "execution_count": 46,
   "id": "1ba6c42f",
   "metadata": {},
   "outputs": [
    {
     "data": {
      "text/plain": [
       "{'accuracy': 78.34645669291339,\n",
       " 'precision': 0.7875988615317319,\n",
       " 'recall': 0.7834645669291339,\n",
       " 'f1': 0.7806382038884261}"
      ]
     },
     "execution_count": 46,
     "metadata": {},
     "output_type": "execute_result"
    }
   ],
   "source": [
    "# Obtenemos las metricas del model_1.\n",
    "model_1_results = calculate_results(y_true=val_labels, \n",
    "                                    y_pred=model_1_preds)\n",
    "model_1_results"
   ]
  },
  {
   "cell_type": "markdown",
   "id": "d0bf5f53",
   "metadata": {},
   "source": [
    "### Modelo 3: LSTM\n",
    "Los modelos LSTM son herramientas poderosas para el análisis de texto y el procesamiento del lenguaje natural debido a su capacidad para modelar dependencias a largo plazo en secuencias. Su aplicación abarca desde la detección de sentimientos hasta la generación de texto, y son especialmente útiles cuando se trabaja con datos de texto estructurados en forma de secuencias.\n",
    "\n",
    "https://keras.io/api/layers/recurrent_layers/lstm/"
   ]
  },
  {
   "cell_type": "code",
   "execution_count": 47,
   "id": "b3284a02",
   "metadata": {},
   "outputs": [
    {
     "name": "stdout",
     "output_type": "stream",
     "text": [
      "(None, 15, 128)\n",
      "(None, 64)\n"
     ]
    }
   ],
   "source": [
    "# Set random seed and create embedding layer (new embedding layer for each model)\n",
    "# Configuración de la semilla aleatoria para reproducibilidad\n",
    "tf.random.set_seed(42)\n",
    "\n",
    "# Importación de capas necesarias de Keras\n",
    "from tensorflow.keras import layers\n",
    "\n",
    "# Creación de una capa de Embedding\n",
    "model_2_embedding = layers.Embedding(input_dim=10000,  # Tamaño del vocabulario\n",
    "                                     output_dim=128,  # Dimensión de los vectores de embedding\n",
    "                                     embeddings_initializer=\"uniform\",  # Inicializador para los vectores de embedding\n",
    "                                     input_length=15,  # Longitud máxima de las secuencias de entrada\n",
    "                                     name=\"embedding_2\")  # Nombre de la capa de embedding\n",
    "\n",
    "# Creación del modelo LSTM\n",
    "inputs = layers.Input(shape=(1,), dtype=\"string\")  # Definición de la entrada del modelo\n",
    "x = text_vectorizer(inputs)  # Vectorización de los datos de texto\n",
    "x = model_2_embedding(x)  # Aplicación de la capa de embedding\n",
    "print(x.shape)  # Imprimir la forma de los datos después de la capa de embedding\n",
    "# x = layers.LSTM(64, return_sequences=True)(x) # return vector for each word in the Tweet (you can stack RNN cells as long as return_sequences=True)\n",
    "x = layers.LSTM(64)(x)  # Aplicación de la capa LSTM para capturar patrones en las secuencias\n",
    "print(x.shape)  # Imprimir la forma de los datos después de la capa LSTM\n",
    "# x = layers.Dense(64, activation=\"relu\")(x) # optional dense layer on top of output of LSTM cell\n",
    "outputs = layers.Dense(1, activation=\"sigmoid\")(x)  # Capa de salida con activación sigmoide para clasificación binaria\n",
    "model_2 = tf.keras.Model(inputs, outputs, name=\"model_2_LSTM\")  # Creación del modelo LSTM final"
   ]
  },
  {
   "cell_type": "code",
   "execution_count": 48,
   "id": "49f36655",
   "metadata": {},
   "outputs": [],
   "source": [
    "# Compilamos el modelo\n",
    "model_2.compile(loss=\"binary_crossentropy\",\n",
    "                optimizer=tf.keras.optimizers.Adam(),\n",
    "                metrics=[\"accuracy\"])"
   ]
  },
  {
   "cell_type": "code",
   "execution_count": 49,
   "id": "c10c6d57",
   "metadata": {},
   "outputs": [
    {
     "name": "stdout",
     "output_type": "stream",
     "text": [
      "Model: \"model_2_LSTM\"\n",
      "_________________________________________________________________\n",
      " Layer (type)                Output Shape              Param #   \n",
      "=================================================================\n",
      " input_2 (InputLayer)        [(None, 1)]               0         \n",
      "                                                                 \n",
      " text_vectorization_1 (Text  (None, 15)                0         \n",
      " Vectorization)                                                  \n",
      "                                                                 \n",
      " embedding_2 (Embedding)     (None, 15, 128)           1280000   \n",
      "                                                                 \n",
      " lstm (LSTM)                 (None, 64)                49408     \n",
      "                                                                 \n",
      " dense_1 (Dense)             (None, 1)                 65        \n",
      "                                                                 \n",
      "=================================================================\n",
      "Total params: 1329473 (5.07 MB)\n",
      "Trainable params: 1329473 (5.07 MB)\n",
      "Non-trainable params: 0 (0.00 Byte)\n",
      "_________________________________________________________________\n"
     ]
    }
   ],
   "source": [
    "model_2.summary()"
   ]
  },
  {
   "cell_type": "code",
   "execution_count": 50,
   "id": "7717a86b",
   "metadata": {},
   "outputs": [
    {
     "name": "stdout",
     "output_type": "stream",
     "text": [
      "Saving TensorBoard log files to: model_logs/LSTM/20230815-193746\n",
      "Epoch 1/5\n",
      "215/215 [==============================] - 6s 19ms/step - loss: 0.5149 - accuracy: 0.7378 - val_loss: 0.4569 - val_accuracy: 0.7795\n",
      "Epoch 2/5\n",
      "215/215 [==============================] - 4s 18ms/step - loss: 0.3195 - accuracy: 0.8714 - val_loss: 0.5050 - val_accuracy: 0.7795\n",
      "Epoch 3/5\n",
      "215/215 [==============================] - 4s 19ms/step - loss: 0.2187 - accuracy: 0.9181 - val_loss: 0.5869 - val_accuracy: 0.7703\n",
      "Epoch 4/5\n",
      "215/215 [==============================] - 4s 18ms/step - loss: 0.1549 - accuracy: 0.9457 - val_loss: 0.6134 - val_accuracy: 0.7769\n",
      "Epoch 5/5\n",
      "215/215 [==============================] - 4s 18ms/step - loss: 0.1085 - accuracy: 0.9603 - val_loss: 0.8917 - val_accuracy: 0.7585\n"
     ]
    }
   ],
   "source": [
    "# Entrenamos el modelo\n",
    "model_2_history = model_2.fit(train_sentences,\n",
    "                              train_labels,\n",
    "                              epochs=5,\n",
    "                              validation_data=(val_sentences, val_labels),\n",
    "                              callbacks=[create_tensorboard_callback(SAVE_DIR, \n",
    "                                                                     \"LSTM\")])"
   ]
  },
  {
   "cell_type": "code",
   "execution_count": 51,
   "id": "50444bc7",
   "metadata": {},
   "outputs": [
    {
     "name": "stdout",
     "output_type": "stream",
     "text": [
      "24/24 [==============================] - 0s 3ms/step\n"
     ]
    },
    {
     "data": {
      "text/plain": [
       "<tf.Tensor: shape=(10,), dtype=float32, numpy=array([0., 1., 1., 0., 0., 1., 1., 1., 1., 0.], dtype=float32)>"
      ]
     },
     "execution_count": 51,
     "metadata": {},
     "output_type": "execute_result"
    }
   ],
   "source": [
    "# Realizamos la prediccion con nuestro modelo\n",
    "model_2_pred_probs = model_2.predict(val_sentences)\n",
    "model_2_pred_probs.shape, model_2_pred_probs[:10] \n",
    "model_2_preds = tf.squeeze(tf.round(model_2_pred_probs))\n",
    "model_2_preds[:10]"
   ]
  },
  {
   "cell_type": "code",
   "execution_count": 52,
   "id": "3c875ca2",
   "metadata": {},
   "outputs": [
    {
     "data": {
      "text/plain": [
       "{'accuracy': 75.8530183727034,\n",
       " 'precision': 0.7588734100545125,\n",
       " 'recall': 0.7585301837270341,\n",
       " 'f1': 0.7569752644555794}"
      ]
     },
     "execution_count": 52,
     "metadata": {},
     "output_type": "execute_result"
    }
   ],
   "source": [
    "# Obtenemos las metricas del modelo\n",
    "model_2_results = calculate_results(y_true=val_labels,\n",
    "                                    y_pred=model_2_preds)\n",
    "model_2_results"
   ]
  },
  {
   "cell_type": "markdown",
   "id": "3536640e",
   "metadata": {},
   "source": [
    "### Modelo 3: GRU\n",
    "\n",
    "Los modelos GRU son una herramienta valiosa en el procesamiento del lenguaje natural, especialmente cuando se trabaja con secuencias de datos, como en el análisis de texto. Proporcionan un equilibrio entre eficiencia computacional y la capacidad de capturar dependencias a largo plazo en el texto, lo que los convierte en una opción sólida para una variedad de tareas de PLN, desde la generación de texto hasta la clasificación de sentimientos.\n",
    "\n",
    "https://keras.io/api/layers/recurrent_layers/gru/"
   ]
  },
  {
   "cell_type": "code",
   "execution_count": 53,
   "id": "baa7da66",
   "metadata": {},
   "outputs": [],
   "source": [
    "# Configuración de la semilla aleatoria para reproducibilidad\n",
    "tf.random.set_seed(42)\n",
    "\n",
    "# Importación de capas necesarias de Keras\n",
    "from tensorflow.keras import layers\n",
    "\n",
    "# Creación de una nueva capa de Embedding\n",
    "model_3_embedding = layers.Embedding(input_dim=10000,  # Tamaño del vocabulario\n",
    "                                     output_dim=128,  # Dimensión de los vectores de embedding\n",
    "                                     embeddings_initializer=\"uniform\",  # Inicializador para los vectores de embedding\n",
    "                                     input_length=15,  # Longitud máxima de las secuencias de entrada\n",
    "                                     name=\"embedding_3\")  # Nombre de la capa de embedding\n",
    "\n",
    "# Construcción de un modelo RNN utilizando la celda GRU\n",
    "inputs = layers.Input(shape=(1,), dtype=\"string\")  # Definición de la entrada del modelo\n",
    "x = text_vectorizer(inputs)  # Vectorización de los datos de texto\n",
    "x = model_3_embedding(x)  # Aplicación de la nueva capa de embedding\n",
    "# x = layers.GRU(64, return_sequences=True) # stacking recurrent cells requires return_sequences=True\n",
    "x = layers.GRU(64)(x)  # Aplicación de la capa GRU para capturar patrones en las secuencias\n",
    "# x = layers.Dense(64, activation=\"relu\")(x) # optional dense layer after GRU cell\n",
    "outputs = layers.Dense(1, activation=\"sigmoid\")(x)  # Capa de salida con activación sigmoide para clasificación binaria\n",
    "model_3 = tf.keras.Model(inputs, outputs, name=\"model_3_GRU\")  # Creación del modelo RNN con celda GRU\n"
   ]
  },
  {
   "cell_type": "code",
   "execution_count": 54,
   "id": "9f43d822",
   "metadata": {},
   "outputs": [],
   "source": [
    "model_3.compile(loss=\"binary_crossentropy\",\n",
    "                optimizer=tf.keras.optimizers.Adam(),\n",
    "                metrics=[\"accuracy\"])"
   ]
  },
  {
   "cell_type": "code",
   "execution_count": 55,
   "id": "7afb5147",
   "metadata": {},
   "outputs": [
    {
     "name": "stdout",
     "output_type": "stream",
     "text": [
      "Model: \"model_3_GRU\"\n",
      "_________________________________________________________________\n",
      " Layer (type)                Output Shape              Param #   \n",
      "=================================================================\n",
      " input_3 (InputLayer)        [(None, 1)]               0         \n",
      "                                                                 \n",
      " text_vectorization_1 (Text  (None, 15)                0         \n",
      " Vectorization)                                                  \n",
      "                                                                 \n",
      " embedding_3 (Embedding)     (None, 15, 128)           1280000   \n",
      "                                                                 \n",
      " gru (GRU)                   (None, 64)                37248     \n",
      "                                                                 \n",
      " dense_2 (Dense)             (None, 1)                 65        \n",
      "                                                                 \n",
      "=================================================================\n",
      "Total params: 1317313 (5.03 MB)\n",
      "Trainable params: 1317313 (5.03 MB)\n",
      "Non-trainable params: 0 (0.00 Byte)\n",
      "_________________________________________________________________\n"
     ]
    }
   ],
   "source": [
    "# Resumen del modelo\n",
    "model_3.summary()"
   ]
  },
  {
   "cell_type": "code",
   "execution_count": 56,
   "id": "0711bd40",
   "metadata": {},
   "outputs": [
    {
     "name": "stdout",
     "output_type": "stream",
     "text": [
      "Saving TensorBoard log files to: model_logs/GRU/20230815-193809\n",
      "Epoch 1/5\n",
      "215/215 [==============================] - 6s 18ms/step - loss: 0.5241 - accuracy: 0.7306 - val_loss: 0.4520 - val_accuracy: 0.7822\n",
      "Epoch 2/5\n",
      "215/215 [==============================] - 5s 22ms/step - loss: 0.3187 - accuracy: 0.8683 - val_loss: 0.4905 - val_accuracy: 0.7822\n",
      "Epoch 3/5\n",
      "215/215 [==============================] - 5s 22ms/step - loss: 0.2166 - accuracy: 0.9190 - val_loss: 0.5546 - val_accuracy: 0.7703\n",
      "Epoch 4/5\n",
      "215/215 [==============================] - 4s 20ms/step - loss: 0.1535 - accuracy: 0.9483 - val_loss: 0.6172 - val_accuracy: 0.7769\n",
      "Epoch 5/5\n",
      "215/215 [==============================] - 4s 18ms/step - loss: 0.1175 - accuracy: 0.9597 - val_loss: 0.5990 - val_accuracy: 0.7717\n"
     ]
    }
   ],
   "source": [
    "# Entrenamos el modelo\n",
    "model_3_history = model_3.fit(train_sentences,\n",
    "                              train_labels,\n",
    "                              epochs=5,\n",
    "                              validation_data=(val_sentences, val_labels),\n",
    "                              callbacks=[create_tensorboard_callback(SAVE_DIR, \"GRU\")])"
   ]
  },
  {
   "cell_type": "code",
   "execution_count": 57,
   "id": "69166ab6",
   "metadata": {},
   "outputs": [
    {
     "name": "stdout",
     "output_type": "stream",
     "text": [
      "24/24 [==============================] - 0s 3ms/step\n"
     ]
    },
    {
     "data": {
      "text/plain": [
       "((762, 1),\n",
       " array([[0.3281195 ],\n",
       "        [0.89954036],\n",
       "        [0.99666953],\n",
       "        [0.14477286],\n",
       "        [0.01412501],\n",
       "        [0.99117833],\n",
       "        [0.77986634],\n",
       "        [0.9966966 ],\n",
       "        [0.99637353],\n",
       "        [0.33059546]], dtype=float32))"
      ]
     },
     "execution_count": 57,
     "metadata": {},
     "output_type": "execute_result"
    }
   ],
   "source": [
    "# Realizar predicciones\n",
    "model_3_pred_probs = mon the validation datadel_3.predict(val_sentences)\n",
    "model_3_pred_probs.shape, model_3_pred_probs[:10]"
   ]
  },
  {
   "cell_type": "code",
   "execution_count": 58,
   "id": "fc12b24e",
   "metadata": {},
   "outputs": [
    {
     "data": {
      "text/plain": [
       "<tf.Tensor: shape=(10,), dtype=float32, numpy=array([0., 1., 1., 0., 0., 1., 1., 1., 1., 0.], dtype=float32)>"
      ]
     },
     "execution_count": 58,
     "metadata": {},
     "output_type": "execute_result"
    }
   ],
   "source": [
    "model_3_preds = tf.squeeze(tf.round(model_3_pred_probs))\n",
    "model_3_preds[:10]"
   ]
  },
  {
   "cell_type": "code",
   "execution_count": 59,
   "id": "748f8050",
   "metadata": {},
   "outputs": [
    {
     "data": {
      "text/plain": [
       "{'accuracy': 77.16535433070865,\n",
       " 'precision': 0.7715668446582516,\n",
       " 'recall': 0.7716535433070866,\n",
       " 'f1': 0.7706989403422689}"
      ]
     },
     "execution_count": 59,
     "metadata": {},
     "output_type": "execute_result"
    }
   ],
   "source": [
    "# Calculo de metricas del model_3.\n",
    "model_3_results = calculate_results(y_true=val_labels, \n",
    "                                    y_pred=model_3_preds)\n",
    "model_3_results"
   ]
  },
  {
   "cell_type": "markdown",
   "id": "e3d1faec",
   "metadata": {},
   "source": [
    "### Modelo 4: Bidireccional\n",
    "\n",
    "Los modelos bidireccionales son una elección valiosa en PLN cuando se busca aprovechar tanto el contexto histórico como el futuro en las secuencias de texto. Su capacidad para capturar relaciones complejas y dependencias a lo largo del tiempo los convierte en herramientas efectivas para una variedad de tareas en el procesamiento del lenguaje natural.\n",
    "\n",
    "https://keras.io/api/layers/recurrent_layers/bidirectional/"
   ]
  },
  {
   "cell_type": "code",
   "execution_count": 60,
   "id": "1b7e8f86",
   "metadata": {},
   "outputs": [],
   "source": [
    "# Configuración de la semilla aleatoria para reproducibilidad\n",
    "tf.random.set_seed(42)\n",
    "\n",
    "# Importación de capas necesarias de Keras\n",
    "from tensorflow.keras import layers\n",
    "\n",
    "# Creación de una nueva capa de Embedding para el Modelo_4\n",
    "model_4_embedding = layers.Embedding(input_dim=10000,  # Tamaño del vocabulario\n",
    "                                     output_dim=128,   # Dimensión de los vectores de embedding\n",
    "                                     embeddings_initializer=\"uniform\",  # Inicializador para los vectores de embedding\n",
    "                                     input_length=15,  # Longitud máxima de las secuencias de entrada\n",
    "                                     name=\"embedding_4\")  # Nombre de la capa de embedding\n",
    "\n",
    "# Construcción de un modelo Bidireccional RNN en TensorFlow\n",
    "inputs = layers.Input(shape=(1,), dtype=\"string\")  # Definición de la entrada del modelo\n",
    "x = text_vectorizer(inputs)  # Vectorización de los datos de texto\n",
    "x = model_4_embedding(x)  # Aplicación de la capa de embedding del Modelo_4\n",
    "# x = ayers.Bidirectional(layers.LSTM(64, return_sequences=True))(x) # stacking RNN layers requires return_sequences=True\n",
    "x = layers.Bidirectional(layers.LSTM(64))(x)  # Aplicación de una capa Bidireccional LSTM\n",
    "outputs = layers.Dense(1, activation=\"sigmoid\")(x)  # Capa de salida con activación sigmoide para clasificación binaria\n",
    "model_4 = tf.keras.Model(inputs, outputs, name=\"model_4_Bidirectional\")  # Creación del modelo Bidireccional RNN (Modelo_4)\n"
   ]
  },
  {
   "cell_type": "code",
   "execution_count": 61,
   "id": "59b21986",
   "metadata": {},
   "outputs": [
    {
     "name": "stdout",
     "output_type": "stream",
     "text": [
      "Model: \"model_4_Bidirectional\"\n",
      "_________________________________________________________________\n",
      " Layer (type)                Output Shape              Param #   \n",
      "=================================================================\n",
      " input_4 (InputLayer)        [(None, 1)]               0         \n",
      "                                                                 \n",
      " text_vectorization_1 (Text  (None, 15)                0         \n",
      " Vectorization)                                                  \n",
      "                                                                 \n",
      " embedding_4 (Embedding)     (None, 15, 128)           1280000   \n",
      "                                                                 \n",
      " bidirectional (Bidirection  (None, 128)               98816     \n",
      " al)                                                             \n",
      "                                                                 \n",
      " dense_3 (Dense)             (None, 1)                 129       \n",
      "                                                                 \n",
      "=================================================================\n",
      "Total params: 1378945 (5.26 MB)\n",
      "Trainable params: 1378945 (5.26 MB)\n",
      "Non-trainable params: 0 (0.00 Byte)\n",
      "_________________________________________________________________\n"
     ]
    }
   ],
   "source": [
    "# Compile\n",
    "model_4.compile(loss=\"binary_crossentropy\",\n",
    "                optimizer=tf.keras.optimizers.Adam(),\n",
    "                metrics=[\"accuracy\"])\n",
    "\n",
    "model_4.summary()"
   ]
  },
  {
   "cell_type": "code",
   "execution_count": 62,
   "id": "b8decf78",
   "metadata": {},
   "outputs": [
    {
     "name": "stdout",
     "output_type": "stream",
     "text": [
      "Saving TensorBoard log files to: model_logs/bidirectional_RNN/20230815-193833\n",
      "Epoch 1/5\n",
      "215/215 [==============================] - 8s 22ms/step - loss: 0.5091 - accuracy: 0.7451 - val_loss: 0.4577 - val_accuracy: 0.7769\n",
      "Epoch 2/5\n",
      "215/215 [==============================] - 4s 20ms/step - loss: 0.3136 - accuracy: 0.8732 - val_loss: 0.5110 - val_accuracy: 0.7743\n",
      "Epoch 3/5\n",
      "215/215 [==============================] - 4s 20ms/step - loss: 0.2126 - accuracy: 0.9186 - val_loss: 0.5615 - val_accuracy: 0.7743\n",
      "Epoch 4/5\n",
      "215/215 [==============================] - 4s 19ms/step - loss: 0.1475 - accuracy: 0.9494 - val_loss: 0.6327 - val_accuracy: 0.7743\n",
      "Epoch 5/5\n",
      "215/215 [==============================] - 4s 19ms/step - loss: 0.1048 - accuracy: 0.9648 - val_loss: 0.6806 - val_accuracy: 0.7703\n"
     ]
    }
   ],
   "source": [
    "# Entrenamiento del modelo\n",
    "model_4_history = model_4.fit(train_sentences,\n",
    "                              train_labels,\n",
    "                              epochs=5,\n",
    "                              validation_data=(val_sentences, val_labels),\n",
    "                              callbacks=[create_tensorboard_callback(SAVE_DIR, \"bidirectional_RNN\")])"
   ]
  },
  {
   "cell_type": "code",
   "execution_count": 64,
   "id": "7206c96f",
   "metadata": {},
   "outputs": [
    {
     "name": "stdout",
     "output_type": "stream",
     "text": [
      "24/24 [==============================] - 1s 4ms/step\n"
     ]
    },
    {
     "data": {
      "text/plain": [
       "<tf.Tensor: shape=(10,), dtype=float32, numpy=array([0., 1., 1., 0., 0., 1., 1., 1., 1., 0.], dtype=float32)>"
      ]
     },
     "execution_count": 64,
     "metadata": {},
     "output_type": "execute_result"
    }
   ],
   "source": [
    "# Realizamos la predicciones \n",
    "model_4_pred_probs = model_4.predict(val_sentences)\n",
    "model_4_pred_probs[:10]\n",
    "model_4_preds = tf.squeeze(tf.round(model_4_pred_probs))\n",
    "model_4_preds[:10]"
   ]
  },
  {
   "cell_type": "code",
   "execution_count": 65,
   "id": "41f3abba",
   "metadata": {},
   "outputs": [
    {
     "data": {
      "text/plain": [
       "{'accuracy': 75.59055118110236,\n",
       " 'precision': 0.7556331774317685,\n",
       " 'recall': 0.7559055118110236,\n",
       " 'f1': 0.7557222691548917}"
      ]
     },
     "execution_count": 65,
     "metadata": {},
     "output_type": "execute_result"
    }
   ],
   "source": [
    "# Calculate bidirectional RNN model results\n",
    "model_4_results = calculate_results(val_labels, model_4_preds)\n",
    "model_4_results"
   ]
  },
  {
   "cell_type": "markdown",
   "id": "aaafd9a3",
   "metadata": {},
   "source": [
    "### Model 5: Tensorflow_hub\n",
    "\n",
    " TensorFlow Hub es una herramienta esencial para la comunidad de aprendizaje profundo, ya que agiliza el desarrollo de modelos, fomenta la reutilización de componentes y facilita la adopción de la transferencia de aprendizaje. Su capacidad para proporcionar módulos preentrenados y embeddings de alta calidad beneficia enormemente a los proyectos de procesamiento del lenguaje natural y otras áreas del aprendizaje automático.\n",
    " \n",
    " https://www.tensorflow.org/hub?hl=es-419"
   ]
  },
  {
   "cell_type": "code",
   "execution_count": 100,
   "id": "891accc2",
   "metadata": {},
   "outputs": [
    {
     "name": "stdout",
     "output_type": "stream",
     "text": [
      "tf.Tensor(\n",
      "[-0.01287159  0.05315952  0.05392484  0.03079978  0.05855708  0.0524225\n",
      "  0.04398075  0.03060796 -0.03271952  0.00657884  0.04034415  0.0359103\n",
      " -0.00879112  0.03417332 -0.03774025 -0.05475707  0.02143976  0.08621974\n",
      "  0.04503858 -0.05397467  0.01770658 -0.09263439 -0.02060814  0.05660139\n",
      " -0.08536645 -0.05841196  0.06736203  0.09203748 -0.0611566   0.06203809\n",
      "  0.03962864  0.03620769  0.00113532 -0.01646397 -0.01250913 -0.01595898\n",
      " -0.03727921  0.09086922  0.0928834  -0.06918707 -0.02164153  0.00747521\n",
      " -0.08177635  0.03594043 -0.03297003 -0.0051822  -0.04390968 -0.03557628\n",
      "  0.07693119 -0.03524608], shape=(50,), dtype=float32)\n"
     ]
    }
   ],
   "source": [
    "# Ejemplo de uso de embedding preentrenado con Universal Sentence Encoder - https://tfhub.dev/google/universal-sentence-encoder/4\n",
    "sample_sentence = \"¡Hay una inundación en mi calle!\"\n",
    "\n",
    "# Importación de TensorFlow Hub\n",
    "import tensorflow_hub as hub\n",
    "\n",
    "# Cargar el Universal Sentence Encoder\n",
    "embed = hub.load(\"https://tfhub.dev/google/universal-sentence-encoder/4\")\n",
    "\n",
    "# Usar el Universal Sentence Encoder para obtener representaciones vectoriales de las frases\n",
    "embed_samples = embed([sample_sentence,\n",
    "                      \"Cuando aplicas el Universal Sentence Encoder a una frase, la convierte en números.\"])\n",
    "\n",
    "# Imprimir los primeros 50 elementos del vector de embedding de la primera frase\n",
    "print(embed_samples[0][:50])"
   ]
  },
  {
   "cell_type": "code",
   "execution_count": 68,
   "id": "40be168a",
   "metadata": {},
   "outputs": [],
   "source": [
    "# Podemos utilizar esta capa de codificación en lugar de nuestro text_vectorizer y la capa de embedding\n",
    "sentence_encoder_layer = hub.KerasLayer(\"https://tfhub.dev/google/universal-sentence-encoder/4\",\n",
    "                                        input_shape=[], # Forma de las entradas que llegan a nuestro modelo \n",
    "                                        dtype=tf.string, # Tipo de datos de las entradas que llegan a la capa USE\n",
    "                                        trainable=False, # Mantener los pesos preentrenados (crearemos un extractor de características)\n",
    "                                        name=\"USE\")"
   ]
  },
  {
   "cell_type": "code",
   "execution_count": 69,
   "id": "543fb556",
   "metadata": {},
   "outputs": [
    {
     "name": "stdout",
     "output_type": "stream",
     "text": [
      "Model: \"model_6_USE\"\n",
      "_________________________________________________________________\n",
      " Layer (type)                Output Shape              Param #   \n",
      "=================================================================\n",
      " USE (KerasLayer)            (None, 512)               256797824 \n",
      "                                                                 \n",
      " dense_4 (Dense)             (None, 64)                32832     \n",
      "                                                                 \n",
      " dense_5 (Dense)             (None, 1)                 65        \n",
      "                                                                 \n",
      "=================================================================\n",
      "Total params: 256830721 (979.73 MB)\n",
      "Trainable params: 32897 (128.50 KB)\n",
      "Non-trainable params: 256797824 (979.61 MB)\n",
      "_________________________________________________________________\n"
     ]
    }
   ],
   "source": [
    "# Crear un modelo utilizando la API Sequential\n",
    "model_5 = tf.keras.Sequential([\n",
    "  sentence_encoder_layer, # Toma frases y las codifica en un embedding\n",
    "  layers.Dense(64, activation=\"relu\"), # Capa densa con función de activación ReLU\n",
    "  layers.Dense(1, activation=\"sigmoid\") # Capa densa con activación sigmoide para clasificación binaria\n",
    "], name=\"model_6_USE\") # Nombrar el modelo como \"model_6_USE\"\n",
    "\n",
    "# Compilar el modelo\n",
    "model_5.compile(loss=\"binary_crossentropy\", # Función de pérdida para clasificación binaria\n",
    "                optimizer=tf.keras.optimizers.Adam(), # Optimizador Adam\n",
    "                metrics=[\"accuracy\"]) # Métrica de precisión\n",
    "\n",
    "# Imprimir un resumen del modelo\n",
    "model_5.summary()"
   ]
  },
  {
   "cell_type": "code",
   "execution_count": 71,
   "id": "5e53a5be",
   "metadata": {},
   "outputs": [
    {
     "name": "stdout",
     "output_type": "stream",
     "text": [
      "Saving TensorBoard log files to: model_logs/tf_hub_sentence_encoder/20230815-194100\n",
      "Epoch 1/5\n",
      "215/215 [==============================] - 4s 9ms/step - loss: 0.5044 - accuracy: 0.7822 - val_loss: 0.4456 - val_accuracy: 0.8018\n",
      "Epoch 2/5\n",
      "215/215 [==============================] - 2s 8ms/step - loss: 0.4142 - accuracy: 0.8145 - val_loss: 0.4342 - val_accuracy: 0.8123\n",
      "Epoch 3/5\n",
      "215/215 [==============================] - 2s 7ms/step - loss: 0.3988 - accuracy: 0.8225 - val_loss: 0.4298 - val_accuracy: 0.8097\n",
      "Epoch 4/5\n",
      "215/215 [==============================] - 1s 7ms/step - loss: 0.3908 - accuracy: 0.8275 - val_loss: 0.4258 - val_accuracy: 0.8150\n",
      "Epoch 5/5\n",
      "215/215 [==============================] - 2s 7ms/step - loss: 0.3838 - accuracy: 0.8313 - val_loss: 0.4273 - val_accuracy: 0.8163\n"
     ]
    }
   ],
   "source": [
    "# Entrenar un clasificador sobre embeddings preentrenados\n",
    "model_5_history = model_5.fit(train_sentences,  # Datos de entrenamiento (frases)\n",
    "                              train_labels,  # Etiquetas de entrenamiento (clasificación binaria)\n",
    "                              epochs=5,  # Número de épocas de entrenamiento\n",
    "                              validation_data=(val_sentences, val_labels),  # Datos de validación\n",
    "                              callbacks=[create_tensorboard_callback(SAVE_DIR, \"tf_hub_sentence_encoder\")])\n"
   ]
  },
  {
   "cell_type": "code",
   "execution_count": 74,
   "id": "99ac8bb2",
   "metadata": {},
   "outputs": [
    {
     "name": "stdout",
     "output_type": "stream",
     "text": [
      "24/24 [==============================] - 0s 6ms/step\n"
     ]
    },
    {
     "data": {
      "text/plain": [
       "<tf.Tensor: shape=(10,), dtype=float32, numpy=array([0., 1., 1., 0., 1., 1., 1., 1., 1., 0.], dtype=float32)>"
      ]
     },
     "execution_count": 74,
     "metadata": {},
     "output_type": "execute_result"
    }
   ],
   "source": [
    "# Realizar las prediciones con TF Hub model\n",
    "model_5_pred_probs = model_5.predict(val_sentences)\n",
    "model_5_pred_probs[:10]\n",
    "model_5_preds = tf.squeeze(tf.round(model_5_pred_probs))\n",
    "model_5_preds[:10]"
   ]
  },
  {
   "cell_type": "code",
   "execution_count": 75,
   "id": "1e7e0c03",
   "metadata": {},
   "outputs": [
    {
     "data": {
      "text/plain": [
       "{'accuracy': 81.62729658792651,\n",
       " 'precision': 0.8190827553840537,\n",
       " 'recall': 0.8162729658792651,\n",
       " 'f1': 0.8146067773916925}"
      ]
     },
     "execution_count": 75,
     "metadata": {},
     "output_type": "execute_result"
    }
   ],
   "source": [
    "# Calculamos model 6 performance metrics\n",
    "model_5_results = calculate_results(val_labels, model_5_preds)\n",
    "model_5_results"
   ]
  },
  {
   "cell_type": "markdown",
   "id": "6691653b",
   "metadata": {},
   "source": [
    "## Comparacion de modelos"
   ]
  },
  {
   "cell_type": "code",
   "execution_count": 76,
   "id": "dc9b881a",
   "metadata": {},
   "outputs": [
    {
     "data": {
      "text/html": [
       "<div>\n",
       "<style scoped>\n",
       "    .dataframe tbody tr th:only-of-type {\n",
       "        vertical-align: middle;\n",
       "    }\n",
       "\n",
       "    .dataframe tbody tr th {\n",
       "        vertical-align: top;\n",
       "    }\n",
       "\n",
       "    .dataframe thead th {\n",
       "        text-align: right;\n",
       "    }\n",
       "</style>\n",
       "<table border=\"1\" class=\"dataframe\">\n",
       "  <thead>\n",
       "    <tr style=\"text-align: right;\">\n",
       "      <th></th>\n",
       "      <th>accuracy</th>\n",
       "      <th>precision</th>\n",
       "      <th>recall</th>\n",
       "      <th>f1</th>\n",
       "    </tr>\n",
       "  </thead>\n",
       "  <tbody>\n",
       "    <tr>\n",
       "      <th>baseline</th>\n",
       "      <td>79.265092</td>\n",
       "      <td>0.811139</td>\n",
       "      <td>0.792651</td>\n",
       "      <td>0.786219</td>\n",
       "    </tr>\n",
       "    <tr>\n",
       "      <th>simple_dense</th>\n",
       "      <td>78.346457</td>\n",
       "      <td>0.787599</td>\n",
       "      <td>0.783465</td>\n",
       "      <td>0.780638</td>\n",
       "    </tr>\n",
       "    <tr>\n",
       "      <th>lstm</th>\n",
       "      <td>75.853018</td>\n",
       "      <td>0.758873</td>\n",
       "      <td>0.758530</td>\n",
       "      <td>0.756975</td>\n",
       "    </tr>\n",
       "    <tr>\n",
       "      <th>gru</th>\n",
       "      <td>77.165354</td>\n",
       "      <td>0.771567</td>\n",
       "      <td>0.771654</td>\n",
       "      <td>0.770699</td>\n",
       "    </tr>\n",
       "    <tr>\n",
       "      <th>bidirectional</th>\n",
       "      <td>75.590551</td>\n",
       "      <td>0.755633</td>\n",
       "      <td>0.755906</td>\n",
       "      <td>0.755722</td>\n",
       "    </tr>\n",
       "    <tr>\n",
       "      <th>tf_hub_sentence_encoder</th>\n",
       "      <td>81.627297</td>\n",
       "      <td>0.819083</td>\n",
       "      <td>0.816273</td>\n",
       "      <td>0.814607</td>\n",
       "    </tr>\n",
       "  </tbody>\n",
       "</table>\n",
       "</div>"
      ],
      "text/plain": [
       "                          accuracy  precision    recall        f1\n",
       "baseline                 79.265092   0.811139  0.792651  0.786219\n",
       "simple_dense             78.346457   0.787599  0.783465  0.780638\n",
       "lstm                     75.853018   0.758873  0.758530  0.756975\n",
       "gru                      77.165354   0.771567  0.771654  0.770699\n",
       "bidirectional            75.590551   0.755633  0.755906  0.755722\n",
       "tf_hub_sentence_encoder  81.627297   0.819083  0.816273  0.814607"
      ]
     },
     "execution_count": 76,
     "metadata": {},
     "output_type": "execute_result"
    }
   ],
   "source": [
    "# Combinamos en un dataframe todos los modelos entrenados\n",
    "all_model_results = pd.DataFrame({\"baseline\": baseline_results,\n",
    "                                  \"simple_dense\": model_1_results,\n",
    "                                  \"lstm\": model_2_results,\n",
    "                                  \"gru\": model_3_results,\n",
    "                                  \"bidirectional\": model_4_results,\n",
    "                                  \"tf_hub_sentence_encoder\": model_5_results})\n",
    "                            \n",
    "all_model_results = all_model_results.transpose()\n",
    "all_model_results"
   ]
  },
  {
   "cell_type": "code",
   "execution_count": 77,
   "id": "7509a498",
   "metadata": {},
   "outputs": [
    {
     "data": {
      "image/png": "[encoded data removed]",
      "text/plain": [
       "<Figure size 1000x700 with 1 Axes>"
      ]
     },
     "metadata": {},
     "output_type": "display_data"
    }
   ],
   "source": [
    "all_model_results[\"accuracy\"] = all_model_results[\"accuracy\"]/100\n",
    "#Comparacion de todos los modelos\n",
    "all_model_results.plot(kind=\"bar\", figsize=(10, 7)).legend(bbox_to_anchor=(1.0, 1.0));"
   ]
  },
  {
   "cell_type": "code",
   "execution_count": 78,
   "id": "b97f8ca8",
   "metadata": {},
   "outputs": [
    {
     "name": "stderr",
     "output_type": "stream",
     "text": [
      "C:\\Users\\garfi\\anaconda3\\envs\\bmrl\\lib\\site-packages\\keras\\src\\engine\\training.py:3000: UserWarning: You are saving your model as an HDF5 file via `model.save()`. This file format is considered legacy. We recommend using instead the native Keras format, e.g. `model.save('my_model.keras')`.\n",
      "  saving_api.save_model(\n"
     ]
    }
   ],
   "source": [
    "#Guardamos el modelo con mejor performance\n",
    "\n",
    "model_5.save(\"model_5.h5\")"
   ]
  },
  {
   "cell_type": "code",
   "execution_count": 80,
   "id": "0ae6195c",
   "metadata": {},
   "outputs": [
    {
     "data": {
      "text/html": [
       "<div>\n",
       "<style scoped>\n",
       "    .dataframe tbody tr th:only-of-type {\n",
       "        vertical-align: middle;\n",
       "    }\n",
       "\n",
       "    .dataframe tbody tr th {\n",
       "        vertical-align: top;\n",
       "    }\n",
       "\n",
       "    .dataframe thead th {\n",
       "        text-align: right;\n",
       "    }\n",
       "</style>\n",
       "<table border=\"1\" class=\"dataframe\">\n",
       "  <thead>\n",
       "    <tr style=\"text-align: right;\">\n",
       "      <th></th>\n",
       "      <th>text</th>\n",
       "      <th>target</th>\n",
       "      <th>pred</th>\n",
       "      <th>pred_prob</th>\n",
       "    </tr>\n",
       "  </thead>\n",
       "  <tbody>\n",
       "    <tr>\n",
       "      <th>0</th>\n",
       "      <td>DFR EP016 Monthly Meltdown - On Dnbheaven 2015...</td>\n",
       "      <td>0</td>\n",
       "      <td>0.0</td>\n",
       "      <td>0.165855</td>\n",
       "    </tr>\n",
       "    <tr>\n",
       "      <th>1</th>\n",
       "      <td>FedEx no longer to transport bioterror germs i...</td>\n",
       "      <td>0</td>\n",
       "      <td>1.0</td>\n",
       "      <td>0.735076</td>\n",
       "    </tr>\n",
       "    <tr>\n",
       "      <th>2</th>\n",
       "      <td>Gunmen kill four in El Salvador bus attack: Su...</td>\n",
       "      <td>1</td>\n",
       "      <td>1.0</td>\n",
       "      <td>0.990613</td>\n",
       "    </tr>\n",
       "    <tr>\n",
       "      <th>3</th>\n",
       "      <td>@camilacabello97 Internally and externally scr...</td>\n",
       "      <td>1</td>\n",
       "      <td>0.0</td>\n",
       "      <td>0.225904</td>\n",
       "    </tr>\n",
       "    <tr>\n",
       "      <th>4</th>\n",
       "      <td>Radiation emergency #preparedness starts with ...</td>\n",
       "      <td>1</td>\n",
       "      <td>1.0</td>\n",
       "      <td>0.716033</td>\n",
       "    </tr>\n",
       "  </tbody>\n",
       "</table>\n",
       "</div>"
      ],
      "text/plain": [
       "                                                text  target  pred  pred_prob\n",
       "0  DFR EP016 Monthly Meltdown - On Dnbheaven 2015...       0   0.0   0.165855\n",
       "1  FedEx no longer to transport bioterror germs i...       0   1.0   0.735076\n",
       "2  Gunmen kill four in El Salvador bus attack: Su...       1   1.0   0.990613\n",
       "3  @camilacabello97 Internally and externally scr...       1   0.0   0.225904\n",
       "4  Radiation emergency #preparedness starts with ...       1   1.0   0.716033"
      ]
     },
     "execution_count": 80,
     "metadata": {},
     "output_type": "execute_result"
    }
   ],
   "source": [
    "val_df = pd.DataFrame({\"text\": val_sentences,\n",
    "                       \"target\": val_labels,\n",
    "                       \"pred\": model_5_preds,\n",
    "                       \"pred_prob\": tf.squeeze(model_5_pred_probs)})\n",
    "val_df.head()"
   ]
  },
  {
   "cell_type": "code",
   "execution_count": 81,
   "id": "2013dd67",
   "metadata": {},
   "outputs": [
    {
     "data": {
      "text/html": [
       "<div>\n",
       "<style scoped>\n",
       "    .dataframe tbody tr th:only-of-type {\n",
       "        vertical-align: middle;\n",
       "    }\n",
       "\n",
       "    .dataframe tbody tr th {\n",
       "        vertical-align: top;\n",
       "    }\n",
       "\n",
       "    .dataframe thead th {\n",
       "        text-align: right;\n",
       "    }\n",
       "</style>\n",
       "<table border=\"1\" class=\"dataframe\">\n",
       "  <thead>\n",
       "    <tr style=\"text-align: right;\">\n",
       "      <th></th>\n",
       "      <th>text</th>\n",
       "      <th>target</th>\n",
       "      <th>pred</th>\n",
       "      <th>pred_prob</th>\n",
       "    </tr>\n",
       "  </thead>\n",
       "  <tbody>\n",
       "    <tr>\n",
       "      <th>31</th>\n",
       "      <td>? High Skies - Burning Buildings ? http://t.co...</td>\n",
       "      <td>0</td>\n",
       "      <td>1.0</td>\n",
       "      <td>0.915929</td>\n",
       "    </tr>\n",
       "    <tr>\n",
       "      <th>759</th>\n",
       "      <td>FedEx will no longer transport bioterror patho...</td>\n",
       "      <td>0</td>\n",
       "      <td>1.0</td>\n",
       "      <td>0.866831</td>\n",
       "    </tr>\n",
       "    <tr>\n",
       "      <th>628</th>\n",
       "      <td>@noah_anyname That's where the concentration c...</td>\n",
       "      <td>0</td>\n",
       "      <td>1.0</td>\n",
       "      <td>0.865212</td>\n",
       "    </tr>\n",
       "    <tr>\n",
       "      <th>49</th>\n",
       "      <td>@madonnamking RSPCA site multiple 7 story high...</td>\n",
       "      <td>0</td>\n",
       "      <td>1.0</td>\n",
       "      <td>0.832721</td>\n",
       "    </tr>\n",
       "    <tr>\n",
       "      <th>393</th>\n",
       "      <td>@SonofLiberty357 all illuminated by the bright...</td>\n",
       "      <td>0</td>\n",
       "      <td>1.0</td>\n",
       "      <td>0.826885</td>\n",
       "    </tr>\n",
       "  </tbody>\n",
       "</table>\n",
       "</div>"
      ],
      "text/plain": [
       "                                                  text  target  pred  \\\n",
       "31   ? High Skies - Burning Buildings ? http://t.co...       0   1.0   \n",
       "759  FedEx will no longer transport bioterror patho...       0   1.0   \n",
       "628  @noah_anyname That's where the concentration c...       0   1.0   \n",
       "49   @madonnamking RSPCA site multiple 7 story high...       0   1.0   \n",
       "393  @SonofLiberty357 all illuminated by the bright...       0   1.0   \n",
       "\n",
       "     pred_prob  \n",
       "31    0.915929  \n",
       "759   0.866831  \n",
       "628   0.865212  \n",
       "49    0.832721  \n",
       "393   0.826885  "
      ]
     },
     "execution_count": 81,
     "metadata": {},
     "output_type": "execute_result"
    }
   ],
   "source": [
    "# Buscamos las predicciones incorrectas\n",
    "most_wrong = val_df[val_df[\"target\"] != val_df[\"pred\"]].sort_values(\"pred_prob\", ascending=False)\n",
    "# Mostramos las 5 primeros falsos positivos\n",
    "most_wrong.head()"
   ]
  },
  {
   "cell_type": "code",
   "execution_count": 82,
   "id": "67f19ead",
   "metadata": {},
   "outputs": [
    {
     "name": "stdout",
     "output_type": "stream",
     "text": [
      "Target: 0, Pred: 1, Prob: 0.915928840637207\n",
      "Text:\n",
      "? High Skies - Burning Buildings ? http://t.co/uVq41i3Kx2 #nowplaying\n",
      "\n",
      "----\n",
      "\n",
      "Target: 0, Pred: 1, Prob: 0.8668312430381775\n",
      "Text:\n",
      "FedEx will no longer transport bioterror pathogens in wake of anthrax lab mishaps http://t.co/lHpgxc4b8J\n",
      "\n",
      "----\n",
      "\n",
      "Target: 0, Pred: 1, Prob: 0.865212082862854\n",
      "Text:\n",
      "@noah_anyname That's where the concentration camps and mass murder come in. \n",
      " \n",
      "EVERY. FUCKING. TIME.\n",
      "\n",
      "----\n",
      "\n",
      "Target: 0, Pred: 1, Prob: 0.8327214121818542\n",
      "Text:\n",
      "@madonnamking RSPCA site multiple 7 story high rise buildings next to low density character residential in an area that floods\n",
      "\n",
      "----\n",
      "\n",
      "Target: 0, Pred: 1, Prob: 0.8268852233886719\n",
      "Text:\n",
      "@SonofLiberty357 all illuminated by the brightly burning buildings all around the town!\n",
      "\n",
      "----\n",
      "\n",
      "Target: 0, Pred: 1, Prob: 0.810752272605896\n",
      "Text:\n",
      "Ashes 2015: AustraliaÛªs collapse at Trent Bridge among worst in history: England bundled out Australia for 60 ... http://t.co/t5TrhjUAU0\n",
      "\n",
      "----\n",
      "\n",
      "Target: 0, Pred: 1, Prob: 0.7964320182800293\n",
      "Text:\n",
      "[55436] 1950 LIONEL TRAINS SMOKE LOCOMOTIVES WITH MAGNE-TRACTION INSTRUCTIONS http://t.co/xEZBs3sq0y http://t.co/C2x0QoKGlY\n",
      "\n",
      "----\n",
      "\n",
      "Target: 0, Pred: 1, Prob: 0.7848110795021057\n",
      "Text:\n",
      "@AshGhebranious civil rights continued in the 60s. And what about trans-generational trauma? if anything we should listen to the Americans.\n",
      "\n",
      "----\n",
      "\n",
      "Target: 0, Pred: 1, Prob: 0.771669328212738\n",
      "Text:\n",
      "The Sound of Arson\n",
      "\n",
      "----\n",
      "\n",
      "Target: 0, Pred: 1, Prob: 0.7692154049873352\n",
      "Text:\n",
      "åÈMGN-AFRICAå¨ pin:263789F4 åÈ Correction: Tent Collapse Story: Correction: Tent Collapse story åÈ http://t.co/fDJUYvZMrv @wizkidayo\n",
      "\n",
      "----\n",
      "\n"
     ]
    }
   ],
   "source": [
    "#Mostramos el target con el valor predicho y ademas el tweet de los falsos positivos\n",
    "for row in most_wrong[:10].itertuples():\n",
    "    _, text, target, pred, prob = row\n",
    "    print(f\"Target: {target}, Pred: {int(pred)}, Prob: {prob}\")\n",
    "    print(f\"Text:\\n{text}\\n\")\n",
    "    print(\"----\\n\")"
   ]
  },
  {
   "cell_type": "code",
   "execution_count": 83,
   "id": "ef5ad489",
   "metadata": {},
   "outputs": [
    {
     "name": "stdout",
     "output_type": "stream",
     "text": [
      "Target: 1, Pred: 0, Prob: 0.06633877754211426\n",
      "Text:\n",
      "@BoyInAHorsemask its a panda trapped in a dogs body\n",
      "\n",
      "----\n",
      "\n",
      "Target: 1, Pred: 0, Prob: 0.06441458314657211\n",
      "Text:\n",
      "going to redo my nails and watch behind the scenes of desolation of smaug ayyy\n",
      "\n",
      "----\n",
      "\n",
      "Target: 1, Pred: 0, Prob: 0.0578339621424675\n",
      "Text:\n",
      "Lucas Duda is Ghost Rider. Not the Nic Cage version but an actual 'engulfed in flames' badass. #Mets\n",
      "\n",
      "----\n",
      "\n",
      "Target: 1, Pred: 0, Prob: 0.057508423924446106\n",
      "Text:\n",
      "@willienelson We need help! Horses will die!Please RT &amp; sign petition!Take a stand &amp; be a voice for them! #gilbert23 https://t.co/e8dl1lNCVu\n",
      "\n",
      "----\n",
      "\n",
      "Target: 1, Pred: 0, Prob: 0.052175164222717285\n",
      "Text:\n",
      "You can never escape me. Bullets don't harm me. Nothing harms me. But I know pain. I know pain. Sometimes I share it. With someone like you.\n",
      "\n",
      "----\n",
      "\n",
      "Target: 1, Pred: 0, Prob: 0.045405056327581406\n",
      "Text:\n",
      "I get to smoke my shit in peace\n",
      "\n",
      "----\n",
      "\n",
      "Target: 1, Pred: 0, Prob: 0.04528023302555084\n",
      "Text:\n",
      "@SoonerMagic_ I mean I'm a fan but I don't need a girl sounding off like a damn siren\n",
      "\n",
      "----\n",
      "\n",
      "Target: 1, Pred: 0, Prob: 0.0433138906955719\n",
      "Text:\n",
      "Reddit Will Now QuarantineÛ_ http://t.co/pkUAMXw6pm #onlinecommunities #reddit #amageddon #freespeech #Business http://t.co/PAWvNJ4sAP\n",
      "\n",
      "----\n",
      "\n",
      "Target: 1, Pred: 0, Prob: 0.0410102978348732\n",
      "Text:\n",
      "Why are you deluged with low self-image? Take the quiz: http://t.co/XsPqdOrIqj http://t.co/CQYvFR4UCy\n",
      "\n",
      "----\n",
      "\n",
      "Target: 1, Pred: 0, Prob: 0.040414173156023026\n",
      "Text:\n",
      "Ron &amp; Fez - Dave's High School Crush https://t.co/aN3W16c8F6 via @YouTube\n",
      "\n",
      "----\n",
      "\n"
     ]
    }
   ],
   "source": [
    "#Mostramos el target con el valor predicho y ademas el tweet de los falsos negativos\n",
    "for row in most_wrong[-10:].itertuples():\n",
    "    _, text, target, pred, prob = row\n",
    "    print(f\"Target: {target}, Pred: {int(pred)}, Prob: {prob}\")\n",
    "    print(f\"Text:\\n{text}\\n\")\n",
    "    print(\"----\\n\")"
   ]
  },
  {
   "cell_type": "code",
   "execution_count": 84,
   "id": "4c17ba7e",
   "metadata": {},
   "outputs": [
    {
     "name": "stdout",
     "output_type": "stream",
     "text": [
      "1/1 [==============================] - 0s 35ms/step\n",
      "Pred: 0, Prob: 0.2782013416290283\n",
      "Text:\n",
      "@cieIstea IDK BUT IT BLEW UP\n",
      "\n",
      "----\n",
      "\n",
      "1/1 [==============================] - 0s 32ms/step\n",
      "Pred: 1, Prob: 0.9660051465034485\n",
      "Text:\n",
      "Police officer wounded suspect dead after exchanging shots: A Richmond police officer was wounded and a suspe... http://t.co/FzQPiQeCHB\n",
      "\n",
      "----\n",
      "\n",
      "1/1 [==============================] - 0s 31ms/step\n",
      "Pred: 0, Prob: 0.1806291788816452\n",
      "Text:\n",
      "New Nanotech Device Will Be Able To Target And Destroy Blood Clots http://t.co/MnmyJXQ9go #science\n",
      "\n",
      "----\n",
      "\n",
      "1/1 [==============================] - 0s 30ms/step\n",
      "Pred: 1, Prob: 0.7987779378890991\n",
      "Text:\n",
      "@chistate33 @thehill What hate crimes? It's the looney libs that are always burning down buildings and vandalzing private property\n",
      "\n",
      "----\n",
      "\n",
      "1/1 [==============================] - 0s 31ms/step\n",
      "Pred: 0, Prob: 0.11918588727712631\n",
      "Text:\n",
      "Peddle to the floorboard.. End up in a four door. Burning up a backroad song... Park it and we pile outÛ_ Baby watch your step nowÛ_\n",
      "\n",
      "----\n",
      "\n",
      "1/1 [==============================] - 0s 31ms/step\n",
      "Pred: 0, Prob: 0.02376796305179596\n",
      "Text:\n",
      "@ashwilliams1 continues to be the best guest on @iLoveGGLetters. This week's episode is bloody outrageous.\n",
      "\n",
      "----\n",
      "\n",
      "1/1 [==============================] - 0s 30ms/step\n",
      "Pred: 0, Prob: 0.19459600746631622\n",
      "Text:\n",
      "@rymathieson are you coming to meltdown!\n",
      "\n",
      "----\n",
      "\n",
      "1/1 [==============================] - 0s 32ms/step\n",
      "Pred: 0, Prob: 0.21798555552959442\n",
      "Text:\n",
      "@ILoveNuiHarime More than that.\n",
      "Demolished.\n",
      "\n",
      "----\n",
      "\n",
      "1/1 [==============================] - 0s 29ms/step\n",
      "Pred: 0, Prob: 0.31181150674819946\n",
      "Text:\n",
      "@justin_fenton Per my Sun piece from last year I think this is the opposite of what should be done: Urban Blight should be monumentalized.\n",
      "\n",
      "----\n",
      "\n",
      "1/1 [==============================] - 0s 31ms/step\n",
      "Pred: 1, Prob: 0.9271216988563538\n",
      "Text:\n",
      "Two New Bitterroot National Forest Fires are Largest for Forest So Far This Year http://t.co/zVa34qHU8M\n",
      "\n",
      "----\n",
      "\n"
     ]
    }
   ],
   "source": [
    "# Mostramos prediciones aleatorias\n",
    "test_sentences = df_test[\"text\"].to_list()\n",
    "test_samples = random.sample(test_sentences, 10)\n",
    "for test_sample in test_samples:\n",
    "    pred_prob = tf.squeeze(model_5.predict([test_sample])) # has to be list\n",
    "    pred = tf.round(pred_prob)\n",
    "    print(f\"Pred: {int(pred)}, Prob: {pred_prob}\")\n",
    "    print(f\"Text:\\n{test_sample}\\n\")\n",
    "    print(\"----\\n\")"
   ]
  },
  {
   "cell_type": "code",
   "execution_count": 85,
   "id": "cd648863",
   "metadata": {},
   "outputs": [],
   "source": [
    "def predict_on_sentence(model, sentence):\n",
    "    \n",
    "    pred_prob = model.predict([sentence])\n",
    "    pred_label = tf.squeeze(tf.round(pred_prob)).numpy()\n",
    "    print(f\"Pred: {pred_label}\", \"(real disaster)\" if pred_label > 0 else \"(not real disaster)\", f\"Prob: {pred_prob[0][0]}\")\n",
    "    print(f\"Text:\\n{sentence}\")"
   ]
  },
  {
   "cell_type": "markdown",
   "id": "343e4509",
   "metadata": {},
   "source": [
    "Mostramos el performance del modelo en un tweet\n",
    "\n",
    "https://twitter.com/SpokespersonCHN/status/1691424443820843008"
   ]
  },
  {
   "cell_type": "code",
   "execution_count": 86,
   "id": "7925b5c5",
   "metadata": {},
   "outputs": [],
   "source": [
    "Example_tweet = \"Situated in Shaanxi Province on the Loess Plateau, the city of Yan'an was one of the regions most susceptible to serious soil erosion in the country. Now Yan'an is a national forest and garden city with lush and vibrant greens. #GreenChina\""
   ]
  },
  {
   "cell_type": "code",
   "execution_count": 87,
   "id": "1cc79134",
   "metadata": {},
   "outputs": [
    {
     "name": "stdout",
     "output_type": "stream",
     "text": [
      "1/1 [==============================] - 0s 32ms/step\n",
      "Pred: 0.0 (not real disaster) Prob: 0.4742772579193115\n",
      "Text:\n",
      "Situated in Shaanxi Province on the Loess Plateau, the city of Yan'an was one of the regions most susceptible to serious soil erosion in the country. Now Yan'an is a national forest and garden city with lush and vibrant greens. #GreenChina\n"
     ]
    }
   ],
   "source": [
    "# Make a prediction on Tweet from the wild\n",
    "predict_on_sentence(model=model_5, # use the USE model\n",
    "                    sentence=Example_tweet)"
   ]
  },
  {
   "cell_type": "code",
   "execution_count": 88,
   "id": "5269997c",
   "metadata": {},
   "outputs": [],
   "source": [
    "# Source - https://twitter.com/BeirutCityGuide/status/1290696551376007168\n",
    "beirut_tweet_1 = \"Reports that the smoke in Beirut sky contains nitric acid, which is toxic. Please share and refrain from stepping outside unless urgent. #Lebanon\"\n",
    "\n",
    "# Source - https://twitter.com/BeirutCityGuide/status/1290773498743476224\n",
    "beirut_tweet_2 = \"#Beirut declared a “devastated city”, two-week state of emergency officially declared. #Lebanon\""
   ]
  },
  {
   "cell_type": "code",
   "execution_count": 89,
   "id": "0e1ec265",
   "metadata": {
    "scrolled": true
   },
   "outputs": [
    {
     "name": "stdout",
     "output_type": "stream",
     "text": [
      "1/1 [==============================] - 0s 29ms/step\n",
      "Pred: 1.0 (real disaster) Prob: 0.9715663194656372\n",
      "Text:\n",
      "Reports that the smoke in Beirut sky contains nitric acid, which is toxic. Please share and refrain from stepping outside unless urgent. #Lebanon\n"
     ]
    }
   ],
   "source": [
    "# Predict on diaster Tweet 1\n",
    "predict_on_sentence(model=model_5, \n",
    "                    sentence=beirut_tweet_1)"
   ]
  },
  {
   "cell_type": "code",
   "execution_count": 90,
   "id": "c1ae0090",
   "metadata": {},
   "outputs": [],
   "source": [
    "import time\n",
    "def pred_timer(model, samples):\n",
    "\n",
    "    start_time = time.perf_counter() # get start time\n",
    "    model.predict(samples) # make predictions\n",
    "    end_time = time.perf_counter() # get finish time\n",
    "    total_time = end_time-start_time # calculate how long predictions took to make\n",
    "    time_per_pred = total_time/len(val_sentences) # find prediction time per sample\n",
    "    return total_time, time_per_pred"
   ]
  },
  {
   "cell_type": "code",
   "execution_count": 93,
   "id": "d0882a7b",
   "metadata": {},
   "outputs": [
    {
     "name": "stdout",
     "output_type": "stream",
     "text": [
      "24/24 [==============================] - 0s 6ms/step\n"
     ]
    },
    {
     "data": {
      "text/plain": [
       "(0.20018100000004324, 0.0002627047244095056)"
      ]
     },
     "execution_count": 93,
     "metadata": {},
     "output_type": "execute_result"
    }
   ],
   "source": [
    "model_5_total_pred_time, model_5_time_per_pred = pred_timer(model_5, val_sentences)\n",
    "model_5_total_pred_time, model_5_time_per_pred"
   ]
  },
  {
   "cell_type": "code",
   "execution_count": 92,
   "id": "74f7558d",
   "metadata": {},
   "outputs": [
    {
     "name": "stdout",
     "output_type": "stream",
     "text": [
      "24/24 [==============================] - 0s 1ms/step\n",
      "24/24 [==============================] - 0s 3ms/step\n",
      "24/24 [==============================] - 0s 3ms/step\n",
      "24/24 [==============================] - 0s 3ms/step\n"
     ]
    }
   ],
   "source": [
    "# Calculate Naive Bayes prediction times\n",
    "baseline_total_pred_time0, baseline_time_per_pred0 = pred_timer(model_0, val_sentences)\n",
    "# Calculate Naive Bayes prediction times\n",
    "baseline_total_pred_time1, baseline_time_per_pred1 = pred_timer(model_1, val_sentences)\n",
    "baseline_total_pred_time2, baseline_time_per_pred2 = pred_timer(model_2, val_sentences)\n",
    "baseline_total_pred_time3, baseline_time_per_pred3 = pred_timer(model_3, val_sentences)\n",
    "baseline_total_pred_time4, baseline_time_per_pred4 = pred_timer(model_3, val_sentences)"
   ]
  },
  {
   "cell_type": "code",
   "execution_count": 94,
   "id": "c24c2407",
   "metadata": {},
   "outputs": [
    {
     "data": {
      "image/png": "[encoded data removed]",
      "text/plain": [
       "<Figure size 1000x700 with 1 Axes>"
      ]
     },
     "metadata": {},
     "output_type": "display_data"
    }
   ],
   "source": [
    "import matplotlib.pyplot as plt\n",
    "\n",
    "plt.figure(figsize=(10, 7))\n",
    "plt.scatter(baseline_time_per_pred0, baseline_results[\"f1\"], label=\"baseline\")\n",
    "plt.scatter(baseline_time_per_pred1, model_1_results[\"f1\"], label=\"Dense\")\n",
    "plt.scatter(baseline_time_per_pred2, model_2_results[\"f1\"], label=\"LSTM\")\n",
    "plt.scatter(baseline_time_per_pred3, model_3_results[\"f1\"], label=\"GRU\")\n",
    "plt.scatter(baseline_time_per_pred4, model_4_results[\"f1\"], label=\"Bidirectionall\")\n",
    "plt.scatter(model_5_time_per_pred, model_5_results[\"f1\"], label=\"tf_hub_sentence_encoder\")\n",
    "plt.legend()\n",
    "plt.title(\"F1-score versus time per prediction\")\n",
    "plt.xlabel(\"Time per prediction\")\n",
    "plt.ylabel(\"F1-Score\");"
   ]
  },
  {
   "cell_type": "markdown",
   "id": "6c658d11",
   "metadata": {},
   "source": [
    "### Conclusion"
   ]
  },
  {
   "cell_type": "markdown",
   "id": "b590d85c",
   "metadata": {},
   "source": [
    "La comparación revela que el Modelo_5 (utilizando TensorFlow Hub) logra la mayor accuracy, precision, recall y F1-score, demostrando su eficacia en la tarea de clasificación de tweets. \n",
    "\n",
    "En términos de tiempo de predicción, el Modelo_base es el más rápido, seguido por el Modelo_4 (Bidireccional). Los modelos LSTM y GRU (Modelos_2 y _3) requieren más tiempo debido a su naturaleza secuencial. El Modelo_5 (TensorFlow Hub) también demuestra ser eficiente en términos de tiempo de predicción\n",
    "\n",
    "Modelo_5 (TensorFlow Hub) destaca por su rendimiento general, mientras que el Modelo_base y el Modelo_4 (Bidireccional) son eficientes en cuanto al tiempo de predicción. La elección del modelo dependerá de un equilibrio entre precisión y eficiencia en función de los requisitos específicos del proyecto."
   ]
  }
 ],
 "metadata": {
  "kernelspec": {
   "display_name": "Python 3 (ipykernel)",
   "language": "python",
   "name": "python3"
  },
  "language_info": {
   "codemirror_mode": {
    "name": "ipython",
    "version": 3
   },
   "file_extension": ".py",
   "mimetype": "text/x-python",
   "name": "python",
   "nbconvert_exporter": "python",
   "pygments_lexer": "ipython3",
   "version": "3.8.0"
  },
  "nbTranslate": {
   "displayLangs": [
    "*"
   ],
   "hotkey": "alt-t",
   "langInMainMenu": true,
   "sourceLang": "en",
   "targetLang": "fr",
   "useGoogleTranslate": true
  },
  "toc": {
   "base_numbering": 1,
   "nav_menu": {},
   "number_sections": true,
   "sideBar": true,
   "skip_h1_title": false,
   "title_cell": "Table of Contents",
   "title_sidebar": "Contents",
   "toc_cell": false,
   "toc_position": {
    "height": "calc(100% - 180px)",
    "left": "10px",
    "top": "150px",
    "width": "303.837px"
   },
   "toc_section_display": true,
   "toc_window_display": true
  },
  "varInspector": {
   "cols": {
    "lenName": 16,
    "lenType": 16,
    "lenVar": 40
   },
   "kernels_config": {
    "python": {
     "delete_cmd_postfix": "",
     "delete_cmd_prefix": "del ",
     "library": "var_list.py",
     "varRefreshCmd": "print(var_dic_list())"
    },
    "r": {
     "delete_cmd_postfix": ") ",
     "delete_cmd_prefix": "rm(",
     "library": "var_list.r",
     "varRefreshCmd": "cat(var_dic_list()) "
    }
   },
   "types_to_exclude": [
    "module",
    "function",
    "builtin_function_or_method",
    "instance",
    "_Feature"
   ],
   "window_display": false
  }
 },
 "nbformat": 4,
 "nbformat_minor": 5
}
